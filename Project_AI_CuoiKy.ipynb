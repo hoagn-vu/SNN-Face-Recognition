{
  "nbformat": 4,
  "nbformat_minor": 0,
  "metadata": {
    "colab": {
      "provenance": [],
      "collapsed_sections": [
        "i7p9dB_ONIHH",
        "MUCWb9jKNMQi",
        "21isKqJK1SCa",
        "gNGEBhaVndMI"
      ],
      "include_colab_link": true
    },
    "kernelspec": {
      "name": "python3",
      "display_name": "Python 3"
    },
    "language_info": {
      "name": "python"
    }
  },
  "cells": [
    {
      "cell_type": "markdown",
      "metadata": {
        "id": "view-in-github",
        "colab_type": "text"
      },
      "source": [
        "<a href=\"https://colab.research.google.com/github/hoagn-vu/SNN-Face-Recognition/blob/main/Project_AI_CuoiKy.ipynb\" target=\"_parent\"><img src=\"https://colab.research.google.com/assets/colab-badge.svg\" alt=\"Open In Colab\"/></a>"
      ]
    },
    {
      "cell_type": "markdown",
      "source": [
        "# 1.Set up\n"
      ],
      "metadata": {
        "id": "NR5Ub_HRCl7l"
      }
    },
    {
      "cell_type": "markdown",
      "source": [
        "\n",
        "## 1.1. Cài đặt thư viện phụ thuộc\n"
      ],
      "metadata": {
        "id": "W-_VaMGiE5Z3"
      }
    },
    {
      "cell_type": "code",
      "source": [
        "!pip install numpy>=1.25.0\n",
        "!pip install tensorflow==2.12.0 tensorflow-cpu==2.12.0 opencv-python matplotlib"
      ],
      "metadata": {
        "id": "gUs6z71FFZZ7"
      },
      "execution_count": null,
      "outputs": []
    },
    {
      "cell_type": "markdown",
      "source": [
        "## 1.2.Tải thư viện\n"
      ],
      "metadata": {
        "id": "H7-Ph3FOIPNw"
      }
    },
    {
      "cell_type": "code",
      "source": [
        "import cv2\n",
        "import os\n",
        "import random\n",
        "import numpy as np\n",
        "from matplotlib import pyplot as plt"
      ],
      "metadata": {
        "id": "D6oXFuVfIZ_l"
      },
      "execution_count": 2,
      "outputs": []
    },
    {
      "cell_type": "code",
      "source": [
        "# Import tensorflow dependencies - Functional API\n",
        "!pip install matplotlib-venn\n",
        "from tensorflow.keras.models import Model\n",
        "from tensorflow.keras.layers  import Layer, Conv2D, Dense, MaxPooling2D, Input, Flatten\n",
        "import tensorflow as tf"
      ],
      "metadata": {
        "id": "_0T64pRALwZl",
        "colab": {
          "base_uri": "https://localhost:8080/"
        },
        "outputId": "3dfc4857-c578-4ab2-f42a-42dbd2a8843f"
      },
      "execution_count": 3,
      "outputs": [
        {
          "output_type": "stream",
          "name": "stdout",
          "text": [
            "Requirement already satisfied: matplotlib-venn in /usr/local/lib/python3.10/dist-packages (0.11.10)\n",
            "Requirement already satisfied: matplotlib in /usr/local/lib/python3.10/dist-packages (from matplotlib-venn) (3.7.1)\n",
            "Requirement already satisfied: numpy in /usr/local/lib/python3.10/dist-packages (from matplotlib-venn) (1.23.5)\n",
            "Requirement already satisfied: scipy in /usr/local/lib/python3.10/dist-packages (from matplotlib-venn) (1.11.4)\n",
            "Requirement already satisfied: contourpy>=1.0.1 in /usr/local/lib/python3.10/dist-packages (from matplotlib->matplotlib-venn) (1.2.1)\n",
            "Requirement already satisfied: cycler>=0.10 in /usr/local/lib/python3.10/dist-packages (from matplotlib->matplotlib-venn) (0.12.1)\n",
            "Requirement already satisfied: fonttools>=4.22.0 in /usr/local/lib/python3.10/dist-packages (from matplotlib->matplotlib-venn) (4.51.0)\n",
            "Requirement already satisfied: kiwisolver>=1.0.1 in /usr/local/lib/python3.10/dist-packages (from matplotlib->matplotlib-venn) (1.4.5)\n",
            "Requirement already satisfied: packaging>=20.0 in /usr/local/lib/python3.10/dist-packages (from matplotlib->matplotlib-venn) (24.0)\n",
            "Requirement already satisfied: pillow>=6.2.0 in /usr/local/lib/python3.10/dist-packages (from matplotlib->matplotlib-venn) (9.4.0)\n",
            "Requirement already satisfied: pyparsing>=2.3.1 in /usr/local/lib/python3.10/dist-packages (from matplotlib->matplotlib-venn) (3.1.2)\n",
            "Requirement already satisfied: python-dateutil>=2.7 in /usr/local/lib/python3.10/dist-packages (from matplotlib->matplotlib-venn) (2.8.2)\n",
            "Requirement already satisfied: six>=1.5 in /usr/local/lib/python3.10/dist-packages (from python-dateutil>=2.7->matplotlib->matplotlib-venn) (1.16.0)\n"
          ]
        }
      ]
    },
    {
      "cell_type": "markdown",
      "source": [
        "## 1.3.Khởi tạo GPU Growth"
      ],
      "metadata": {
        "id": "SbsKLHdUPBmQ"
      }
    },
    {
      "cell_type": "code",
      "source": [
        "gpus = tf.config.experimental.list_physical_devices('GPU')\n",
        "for gpu in gpus:\n",
        "    tf.config.experimental.set_memory_growth(gpu, True)"
      ],
      "metadata": {
        "id": "KJEw8lBtPDmz"
      },
      "execution_count": 4,
      "outputs": []
    },
    {
      "cell_type": "markdown",
      "source": [
        "## 1.4.Tạo Folder"
      ],
      "metadata": {
        "id": "WAQpTDi3R1Ys"
      }
    },
    {
      "cell_type": "code",
      "source": [
        "!git clone https://github.com/hoagn-vu/test-colab.git"
      ],
      "metadata": {
        "colab": {
          "base_uri": "https://localhost:8080/"
        },
        "id": "vDP9d3t0kBkA",
        "outputId": "6386258f-eb31-4bf1-f6a2-31b5eacb0358"
      },
      "execution_count": 5,
      "outputs": [
        {
          "output_type": "stream",
          "name": "stdout",
          "text": [
            "Cloning into 'test-colab'...\n",
            "remote: Enumerating objects: 13994, done.\u001b[K\n",
            "remote: Counting objects: 100% (18/18), done.\u001b[K\n",
            "remote: Compressing objects: 100% (12/12), done.\u001b[K\n",
            "remote: Total 13994 (delta 5), reused 16 (delta 3), pack-reused 13976\u001b[K\n",
            "Receiving objects: 100% (13994/13994), 192.36 MiB | 27.27 MiB/s, done.\n",
            "Resolving deltas: 100% (5/5), done.\n",
            "Updating files: 100% (13977/13977), done.\n"
          ]
        }
      ]
    },
    {
      "cell_type": "code",
      "source": [
        "# Đường dẫn đến thư mục chứa ảnh đã clone từ GitHub\n",
        "POS_PATH = '/content/test-colab/positive'\n",
        "NEG_PATH = '/content/test-colab/negative'\n",
        "ANC_PATH = '/content/test-colab/anchor'"
      ],
      "metadata": {
        "id": "RB6T7hEKkXT_"
      },
      "execution_count": 6,
      "outputs": []
    },
    {
      "cell_type": "code",
      "source": [
        "import os\n",
        "import matplotlib.pyplot as plt\n",
        "import matplotlib.image as mpimg\n",
        "# Liệt kê tất cả các file trong thư mục ảnh\n",
        "image_files = [f for f in os.listdir(POS_PATH) if os.path.isfile(os.path.join(POS_PATH, f))]\n",
        "\n",
        "# Duyệt qua từng tệp ảnh trong danh sách và nối chúng với đường dẫn thư mục\n",
        "for file_name in image_files:\n",
        "    full_path = os.path.join(ANC_PATH, file_name)\n",
        "    print(full_path)"
      ],
      "metadata": {
        "id": "8h8kpoOkk2lT"
      },
      "execution_count": null,
      "outputs": []
    },
    {
      "cell_type": "code",
      "source": [
        "# Khởi tạo đường dẫn\n",
        "# POS_PATH = os.path.join('data', 'positive')\n",
        "# NEG_PATH = os.path.join('data', 'negative')\n",
        "# ANC_PATH = os.path.join('data', 'anchor')"
      ],
      "metadata": {
        "id": "EEkOv4m7R47e"
      },
      "execution_count": null,
      "outputs": []
    },
    {
      "cell_type": "code",
      "source": [
        "# Tạo folder\n",
        "# os.makedirs(POS_PATH)\n",
        "# os.makedirs(NEG_PATH)\n",
        "# os.makedirs(ANC_PATH)"
      ],
      "metadata": {
        "id": "9raE4Kj7STtr"
      },
      "execution_count": null,
      "outputs": []
    },
    {
      "cell_type": "markdown",
      "source": [
        "# 2.Tạo file ảnh Positives và Anchors"
      ],
      "metadata": {
        "id": "i7p9dB_ONIHH"
      }
    },
    {
      "cell_type": "markdown",
      "source": [
        "## 2.1"
      ],
      "metadata": {
        "id": "MUCWb9jKNMQi"
      }
    },
    {
      "cell_type": "code",
      "source": [
        "# for directory in os.listdir('lfw'):\n",
        "#   for file in os.listdir(os.path.join('lfw', directory)):\n",
        "#     EX_PATH = os.path.join('lfw', directory, file)\n",
        "#     NEW_PATH = os.path.join(NEG_PATH, file)\n",
        "#     os.replace(EX_PATH, NEW_PATH)"
      ],
      "metadata": {
        "id": "VReOgmzkNQUi"
      },
      "execution_count": null,
      "outputs": []
    },
    {
      "cell_type": "markdown",
      "source": [
        "## 2.2.Tạo Positive và Anchor"
      ],
      "metadata": {
        "id": "dk5XkoNnXNUW"
      }
    },
    {
      "cell_type": "code",
      "source": [
        "# import uuid"
      ],
      "metadata": {
        "id": "yv_EUQJxXIc5"
      },
      "execution_count": null,
      "outputs": []
    },
    {
      "cell_type": "code",
      "source": [
        "# uuid.uuid1()"
      ],
      "metadata": {
        "id": "pklIaQTVXJfU"
      },
      "execution_count": null,
      "outputs": []
    },
    {
      "cell_type": "code",
      "source": [
        "# import cv2\n",
        "# cap = cv2.VideoCapture(0)\n",
        "# while cap.isOpened():\n",
        "#   ret, frame = cap.read()\n",
        "\n",
        "#   frame = frame[120:120+250,200:200+250,:]\n",
        "\n",
        "#   if cv2.waitKey(1) & 0XFF == ord('a'):\n",
        "#     imgname = os.path.join(ANC_PATH, '{}.jpg'.format(uuid.uuid1()))\n",
        "#     cv2.imwrite(imgname, frame)\n",
        "\n",
        "\n",
        "#   if cv2.waitKey(1) & 0XFF == ord('p'):\n",
        "#     imgname = os.path.join(POS_PATH, '{}.jpg'.format(uuid.uuid1()))\n",
        "#     cv2.imwrite(imgname, frame)\n",
        "\n",
        "\n",
        "#   cv2.imshow('Image Collection', frame)\n",
        "\n",
        "#   if cv2.waitKey(1) & 0XFF == ord('q'):\n",
        "#     break\n",
        "\n",
        "# cap.release()\n",
        "\n",
        "# cv2.destroyAllWindows()"
      ],
      "metadata": {
        "id": "r3Tz7iSxXU0Y"
      },
      "execution_count": null,
      "outputs": []
    },
    {
      "cell_type": "markdown",
      "source": [
        "# 2X. Data Augmentation"
      ],
      "metadata": {
        "id": "21isKqJK1SCa"
      }
    },
    {
      "cell_type": "code",
      "source": [
        "# def data_aug(img):\n",
        "#     data = []\n",
        "#     for i in range(9):\n",
        "#         img = tf.image.stateless_random_brightness(img, max_delta=0.02, seed=(1,2))\n",
        "#         img = tf.image.stateless_random_contrast(img, lower=0.6, upper=1, seed=(1,3))\n",
        "#         # img = tf.image.stateless_random_crop(img, size=(20,20,3), seed=(1,2))\n",
        "#         img = tf.image.stateless_random_flip_left_right(img, seed=(np.random.randint(100),np.random.randint(100)))\n",
        "#         img = tf.image.stateless_random_jpeg_quality(img, min_jpeg_quality=90, max_jpeg_quality=100, seed=(np.random.randint(100),np.random.randint(100)))\n",
        "#         img = tf.image.stateless_random_saturation(img, lower=0.9,upper=1, seed=(np.random.randint(100),np.random.randint(100)))\n",
        "\n",
        "#         data.append(img)\n",
        "\n",
        "#     return data"
      ],
      "metadata": {
        "id": "G2HxiqPd1eC0"
      },
      "execution_count": null,
      "outputs": []
    },
    {
      "cell_type": "code",
      "source": [
        "import os\n",
        "import uuid"
      ],
      "metadata": {
        "id": "OMZijhl41gkL"
      },
      "execution_count": null,
      "outputs": []
    },
    {
      "cell_type": "code",
      "source": [
        "# img_path = os.path.join(ANC_PATH, '924e839c-135f-11ec-b54e-a0cec8d2d278.jpg')\n",
        "# img = cv2.imread(img_path)\n",
        "# augmented_images = data_aug(img)\n",
        "\n",
        "# for image in augmented_images:\n",
        "#     cv2.imwrite(os.path.join(ANC_PATH, '{}.jpg'.format(uuid.uuid1())), image.numpy())"
      ],
      "metadata": {
        "id": "4f8rLEEN1kZ4"
      },
      "execution_count": null,
      "outputs": []
    },
    {
      "cell_type": "code",
      "source": [
        "# for file_name in os.listdir(os.path.join(POS_PATH)):\n",
        "#     img_path = os.path.join(POS_PATH, file_name)\n",
        "#     img = cv2.imread(img_path)\n",
        "#     augmented_images = data_aug(img)\n",
        "\n",
        "#     for image in augmented_images:\n",
        "#         cv2.imwrite(os.path.join(POS_PATH, '{}.jpg'.format(uuid.uuid1())), image.numpy())"
      ],
      "metadata": {
        "id": "hJ--TqlV1lBi"
      },
      "execution_count": null,
      "outputs": []
    },
    {
      "cell_type": "markdown",
      "source": [
        "# 3. Tiền xử lí hình ảnh"
      ],
      "metadata": {
        "id": "gNGEBhaVndMI"
      }
    },
    {
      "cell_type": "markdown",
      "source": [
        "## 3.1.Lấy đường dẫn thư mục hình ảnh"
      ],
      "metadata": {
        "id": "pSdDE9GMnww9"
      }
    },
    {
      "cell_type": "code",
      "source": [
        "anchor = tf.data.Dataset.list_files(ANC_PATH+'/*.jpg').take(250)\n",
        "positive = tf.data.Dataset.list_files(POS_PATH+'/*.jpg').take(250)\n",
        "negative = tf.data.Dataset.list_files(NEG_PATH+'/*.jpg').take(250)"
      ],
      "metadata": {
        "id": "EZ4dywKEnjlV"
      },
      "execution_count": 8,
      "outputs": []
    },
    {
      "cell_type": "code",
      "source": [
        "dir_test = anchor.as_numpy_iterator()"
      ],
      "metadata": {
        "id": "G4VGHDwbn5qI"
      },
      "execution_count": 9,
      "outputs": []
    },
    {
      "cell_type": "code",
      "source": [
        "print(dir_test.next())"
      ],
      "metadata": {
        "colab": {
          "base_uri": "https://localhost:8080/"
        },
        "id": "W9vOGSpk1zdB",
        "outputId": "5ff8496d-ce2b-4070-dda1-7250606088a2"
      },
      "execution_count": 10,
      "outputs": [
        {
          "output_type": "stream",
          "name": "stdout",
          "text": [
            "b'/content/test-colab/anchor/12698423-0988-11ef-ae71-ecee15d3d43b.jpg'\n"
          ]
        }
      ]
    },
    {
      "cell_type": "markdown",
      "source": [
        "## 3.2.Tiền xử lí dữ liệu ( Resize & Scale )"
      ],
      "metadata": {
        "id": "pOCpiXlTn9F-"
      }
    },
    {
      "cell_type": "code",
      "source": [
        "def preprocess(file_path):\n",
        "\n",
        "    # Tải hình ảnh từ đường dẫn\n",
        "    byte_img = tf.io.read_file(file_path)\n",
        "\n",
        "    # Tải hình ảnh\n",
        "    img = tf.io.decode_jpeg(byte_img)\n",
        "\n",
        "    # Chỉnh size ảnh thành 100x100\n",
        "    img = tf.image.resize(img, (100, 100))\n",
        "\n",
        "    # Scale hình ảnh về trong khoarg 0 và 1\n",
        "    img = img / 255.0\n",
        "\n",
        "    return img"
      ],
      "metadata": {
        "id": "XV7jRXqLoDCp"
      },
      "execution_count": 11,
      "outputs": []
    },
    {
      "cell_type": "code",
      "source": [
        "img = preprocess('/content/test-colab/anchor/13fceeb6-0988-11ef-9668-ecee15d3d43b.jpg')"
      ],
      "metadata": {
        "id": "pZfAPJKqoK3u"
      },
      "execution_count": 12,
      "outputs": []
    },
    {
      "cell_type": "code",
      "source": [
        "plt.imshow(img)"
      ],
      "metadata": {
        "id": "yxfdvyEXoSyE",
        "colab": {
          "base_uri": "https://localhost:8080/",
          "height": 451
        },
        "outputId": "d1568667-e654-4210-8671-3c8e7fac86e9"
      },
      "execution_count": 13,
      "outputs": [
        {
          "output_type": "execute_result",
          "data": {
            "text/plain": [
              "<matplotlib.image.AxesImage at 0x7ddf121bd180>"
            ]
          },
          "metadata": {},
          "execution_count": 13
        },
        {
          "output_type": "display_data",
          "data": {
            "text/plain": [
              "<Figure size 640x480 with 1 Axes>"
            ],
            "image/png": "[encoded data removed]"
          },
          "metadata": {}
        }
      ]
    },
    {
      "cell_type": "code",
      "source": [
        "anchor.map(preprocess)\n",
        "negative.map(preprocess)\n",
        "positive.map(preprocess)"
      ],
      "metadata": {
        "id": "AIU--YDcoezL",
        "colab": {
          "base_uri": "https://localhost:8080/"
        },
        "outputId": "2dc35163-7edc-49d3-a05c-d5ce7cce430c"
      },
      "execution_count": 14,
      "outputs": [
        {
          "output_type": "execute_result",
          "data": {
            "text/plain": [
              "<_MapDataset element_spec=TensorSpec(shape=(100, 100, None), dtype=tf.float32, name=None)>"
            ]
          },
          "metadata": {},
          "execution_count": 14
        }
      ]
    },
    {
      "cell_type": "markdown",
      "source": [
        "## 3.3 Gán nhãn dataset"
      ],
      "metadata": {
        "id": "qbl7tKSH2yB4"
      }
    },
    {
      "cell_type": "code",
      "source": [
        "# (anchor, positive) => 1,1,1,1,1\n",
        "# (anchor, negative) => 0,0,0,0,0"
      ],
      "metadata": {
        "id": "s4SWmAqv2-Y9"
      },
      "execution_count": 15,
      "outputs": []
    },
    {
      "cell_type": "code",
      "source": [
        "positives = tf.data.Dataset.zip((anchor, positive, tf.data.Dataset.from_tensor_slices(tf.ones(len(anchor)))))\n",
        "negatives = tf.data.Dataset.zip((anchor, negative, tf.data.Dataset.from_tensor_slices(tf.zeros(len(anchor)))))\n",
        "data = positives.concatenate(negatives)"
      ],
      "metadata": {
        "id": "1j42hzua2-6S"
      },
      "execution_count": 16,
      "outputs": []
    },
    {
      "cell_type": "code",
      "source": [
        "samples = data.as_numpy_iterator()"
      ],
      "metadata": {
        "id": "BDTmHO8n3AX4"
      },
      "execution_count": 17,
      "outputs": []
    },
    {
      "cell_type": "code",
      "source": [
        "exampple = samples.next()"
      ],
      "metadata": {
        "id": "BVsbc60y3CDA"
      },
      "execution_count": 18,
      "outputs": []
    },
    {
      "cell_type": "code",
      "source": [
        "exampple"
      ],
      "metadata": {
        "colab": {
          "base_uri": "https://localhost:8080/"
        },
        "id": "WYNMdSEc3DiC",
        "outputId": "5d63c1c8-b31e-40d0-a201-264c50b2bd3d"
      },
      "execution_count": 19,
      "outputs": [
        {
          "output_type": "execute_result",
          "data": {
            "text/plain": [
              "(b'/content/test-colab/anchor/14d57f39-0988-11ef-8ea5-ecee15d3d43b.jpg',\n",
              " b'/content/test-colab/positive/456dec69-0987-11ef-88dd-ecee15d3d43b.jpg',\n",
              " 1.0)"
            ]
          },
          "metadata": {},
          "execution_count": 19
        }
      ]
    },
    {
      "cell_type": "markdown",
      "source": [
        "## 3.4 Xây dựng phân vùng huấn luyện và thử nghiệm"
      ],
      "metadata": {
        "id": "Mym2FLne3Jl-"
      }
    },
    {
      "cell_type": "code",
      "source": [
        "def preprocess_twin(input_img, validation_img, label):\n",
        "    return(preprocess(input_img), preprocess(validation_img), label)"
      ],
      "metadata": {
        "id": "WGc8UYBl3OsO"
      },
      "execution_count": 20,
      "outputs": []
    },
    {
      "cell_type": "code",
      "source": [
        "res = preprocess_twin(*exampple)"
      ],
      "metadata": {
        "id": "eBPir7bt3Qlv"
      },
      "execution_count": 21,
      "outputs": []
    },
    {
      "cell_type": "code",
      "source": [
        "plt.imshow(res[1])"
      ],
      "metadata": {
        "colab": {
          "base_uri": "https://localhost:8080/",
          "height": 451
        },
        "id": "Cgxhdv943SBt",
        "outputId": "de0055f7-9adf-4adb-ca66-aa29e8300916"
      },
      "execution_count": 22,
      "outputs": [
        {
          "output_type": "execute_result",
          "data": {
            "text/plain": [
              "<matplotlib.image.AxesImage at 0x7ddeff7540a0>"
            ]
          },
          "metadata": {},
          "execution_count": 22
        },
        {
          "output_type": "display_data",
          "data": {
            "text/plain": [
              "<Figure size 640x480 with 1 Axes>"
            ],
            "image/png": "[encoded data removed]"
          },
          "metadata": {}
        }
      ]
    },
    {
      "cell_type": "code",
      "source": [
        "res[2]"
      ],
      "metadata": {
        "colab": {
          "base_uri": "https://localhost:8080/"
        },
        "id": "fxn5ozja3Vxm",
        "outputId": "6362e0ba-8a3b-4e73-824c-ff069dae373c"
      },
      "execution_count": 23,
      "outputs": [
        {
          "output_type": "execute_result",
          "data": {
            "text/plain": [
              "1.0"
            ]
          },
          "metadata": {},
          "execution_count": 23
        }
      ]
    },
    {
      "cell_type": "code",
      "source": [
        "# Build dataloader pipeline\n",
        "data = data.map(preprocess_twin)\n",
        "data = data.cache()\n",
        "data = data.shuffle(buffer_size=10000)"
      ],
      "metadata": {
        "id": "Kf3Njj8q3YHB"
      },
      "execution_count": 24,
      "outputs": []
    },
    {
      "cell_type": "code",
      "source": [
        "# Training partition\n",
        "train_data = data.take(round(len(data)*.7))\n",
        "train_data = train_data.batch(16)\n",
        "train_data = train_data.prefetch(8)"
      ],
      "metadata": {
        "id": "jM2tezGW3Yla"
      },
      "execution_count": 25,
      "outputs": []
    },
    {
      "cell_type": "code",
      "source": [
        "# Testing partition\n",
        "test_data = data.skip(round(len(data)*.7))\n",
        "test_data = test_data.take(round(len(data)*.3))\n",
        "test_data = test_data.batch(16)\n",
        "test_data = test_data.prefetch(8)"
      ],
      "metadata": {
        "id": "0Jx-CyYO3aE4"
      },
      "execution_count": 26,
      "outputs": []
    },
    {
      "cell_type": "markdown",
      "source": [
        "# 4.Xây dựng mô hình"
      ],
      "metadata": {
        "id": "znDO0kCp6bC5"
      }
    },
    {
      "cell_type": "markdown",
      "source": [
        "## 4.1.Xây dựng Embedding Layer"
      ],
      "metadata": {
        "id": "-sUq58pB6ffP"
      }
    },
    {
      "cell_type": "code",
      "source": [
        "inp = Input(shape=(105,105,3), name = 'input_1')"
      ],
      "metadata": {
        "id": "B7gj9t_267f0"
      },
      "execution_count": 27,
      "outputs": []
    },
    {
      "cell_type": "code",
      "source": [
        " c1 = Conv2D(64, (10,10), activation='relu')(inp)"
      ],
      "metadata": {
        "id": "n0MDGxZb68BL"
      },
      "execution_count": 28,
      "outputs": []
    },
    {
      "cell_type": "code",
      "source": [
        "m1 = MaxPooling2D(64, (2,2), padding='same')(c1)\n"
      ],
      "metadata": {
        "id": "avRRC9QF71gW"
      },
      "execution_count": 29,
      "outputs": []
    },
    {
      "cell_type": "code",
      "source": [
        "def make_embedding():\n",
        "  inp = Input(shape=(100,100,3), name = 'input_1')\n",
        "\n",
        "  # Khối đầu tiên\n",
        "  c1 = Conv2D(64, (10,10), activation='relu')(inp)\n",
        "  m1 = MaxPooling2D(64, (2,2), padding='same')(c1)\n",
        "\n",
        "  # Khối thứ hai\n",
        "  c2 = Conv2D(128, (7,7), activation='relu')(m1)\n",
        "  m2 = MaxPooling2D(64, (2,2), padding='same')(c2)\n",
        "\n",
        "  # Khối thứ ba\n",
        "  c3 = Conv2D(128, (4,4), activation='relu')(m2)\n",
        "  m3 = MaxPooling2D(64, (2,2), padding='same')(c3)\n",
        "\n",
        "  # Khối thứ tư\n",
        "  c4 = Conv2D(256, (4,4), activation='relu')(m3)\n",
        "  f1 = Flatten()(c4)\n",
        "  d1 = Dense(4096, activation='sigmoid')(f1)\n",
        "\n",
        "  return Model(inputs=[inp], outputs=[d1], name='embedding')"
      ],
      "metadata": {
        "id": "yVCAWJqH6k6v"
      },
      "execution_count": 30,
      "outputs": []
    },
    {
      "cell_type": "code",
      "source": [
        "embedding = make_embedding()"
      ],
      "metadata": {
        "id": "CCi-RrS0-9Sv"
      },
      "execution_count": 31,
      "outputs": []
    },
    {
      "cell_type": "code",
      "source": [
        "embedding.summary()"
      ],
      "metadata": {
        "colab": {
          "base_uri": "https://localhost:8080/"
        },
        "id": "M29jt48E_LGt",
        "outputId": "5a1f672b-23e2-46f2-f48f-358a34c611a7"
      },
      "execution_count": 32,
      "outputs": [
        {
          "output_type": "stream",
          "name": "stdout",
          "text": [
            "Model: \"embedding\"\n",
            "_________________________________________________________________\n",
            " Layer (type)                Output Shape              Param #   \n",
            "=================================================================\n",
            " input_1 (InputLayer)        [(None, 100, 100, 3)]     0         \n",
            "                                                                 \n",
            " conv2d_1 (Conv2D)           (None, 91, 91, 64)        19264     \n",
            "                                                                 \n",
            " max_pooling2d_1 (MaxPooling  (None, 46, 46, 64)       0         \n",
            " 2D)                                                             \n",
            "                                                                 \n",
            " conv2d_2 (Conv2D)           (None, 40, 40, 128)       401536    \n",
            "                                                                 \n",
            " max_pooling2d_2 (MaxPooling  (None, 20, 20, 128)      0         \n",
            " 2D)                                                             \n",
            "                                                                 \n",
            " conv2d_3 (Conv2D)           (None, 17, 17, 128)       262272    \n",
            "                                                                 \n",
            " max_pooling2d_3 (MaxPooling  (None, 9, 9, 128)        0         \n",
            " 2D)                                                             \n",
            "                                                                 \n",
            " conv2d_4 (Conv2D)           (None, 6, 6, 256)         524544    \n",
            "                                                                 \n",
            " flatten (Flatten)           (None, 9216)              0         \n",
            "                                                                 \n",
            " dense (Dense)               (None, 4096)              37752832  \n",
            "                                                                 \n",
            "=================================================================\n",
            "Total params: 38,960,448\n",
            "Trainable params: 38,960,448\n",
            "Non-trainable params: 0\n",
            "_________________________________________________________________\n"
          ]
        }
      ]
    },
    {
      "cell_type": "markdown",
      "source": [
        "## 4.2.Xây dựng Distance Layer"
      ],
      "metadata": {
        "id": "5NdPwouEAD5D"
      }
    },
    {
      "cell_type": "code",
      "source": [
        "# Siamese L1 Distance class\n",
        "class L1Dist(Layer):\n",
        "  def __init__(self, **kwargs):\n",
        "    super().__init__()\n",
        "\n",
        "  def call(self, input_embedding, validation_embedding):\n",
        "    return tf.math.abs(input_embedding - validation_embedding)"
      ],
      "metadata": {
        "id": "LOrsbSaKAjH5"
      },
      "execution_count": 33,
      "outputs": []
    },
    {
      "cell_type": "code",
      "source": [
        "l1 = L1Dist()"
      ],
      "metadata": {
        "id": "LURgUqNTBhM0"
      },
      "execution_count": 34,
      "outputs": []
    },
    {
      "cell_type": "code",
      "source": [
        "l1(anchor_embedding, validation_embedding)"
      ],
      "metadata": {
        "id": "wVPM5M7iBoqn"
      },
      "execution_count": null,
      "outputs": []
    },
    {
      "cell_type": "markdown",
      "source": [
        "## 4.3.xây dựng Siamese Model"
      ],
      "metadata": {
        "id": "YUdN23jPC-zs"
      }
    },
    {
      "cell_type": "code",
      "source": [
        "input_image = Input(name='input_img', shape=(100,100,3))\n",
        "validation_image = Input(name='validation_img', shape=(100,100,3))"
      ],
      "metadata": {
        "id": "2LB0RUhKEoJn"
      },
      "execution_count": 36,
      "outputs": []
    },
    {
      "cell_type": "code",
      "source": [
        "inp_embedding = embedding(input_image)\n",
        "val_embedding = embedding(validation_image)"
      ],
      "metadata": {
        "id": "AAzhkIz2E2HX"
      },
      "execution_count": 37,
      "outputs": []
    },
    {
      "cell_type": "code",
      "source": [
        "siamese_layer = L1Dist()"
      ],
      "metadata": {
        "id": "qv3297QpFFMn"
      },
      "execution_count": 38,
      "outputs": []
    },
    {
      "cell_type": "code",
      "source": [
        "distances = siamese_layer(inp_embedding, val_embedding)"
      ],
      "metadata": {
        "id": "3MUqOt5BFQMH"
      },
      "execution_count": 39,
      "outputs": []
    },
    {
      "cell_type": "code",
      "source": [
        "classifier = Dense(1, activation='sigmoid')(distances)"
      ],
      "metadata": {
        "id": "PV6T5wTYFNbo"
      },
      "execution_count": 40,
      "outputs": []
    },
    {
      "cell_type": "code",
      "source": [
        "classifier"
      ],
      "metadata": {
        "colab": {
          "base_uri": "https://localhost:8080/"
        },
        "id": "RqgJqoODFcvK",
        "outputId": "eef60bf9-ea3c-433d-80ae-5bc80370265c"
      },
      "execution_count": 41,
      "outputs": [
        {
          "output_type": "execute_result",
          "data": {
            "text/plain": [
              "<KerasTensor: shape=(None, 1) dtype=float32 (created by layer 'dense_1')>"
            ]
          },
          "metadata": {},
          "execution_count": 41
        }
      ]
    },
    {
      "cell_type": "code",
      "source": [
        "def make_siamese_model():\n",
        "\n",
        "  # Anchor image input in the network\n",
        "    input_image = Input(name='input_img', shape=(100,100,3))\n",
        "\n",
        "    # Validation image in the network\n",
        "    validation_image = Input(name='validation_img', shape=(100,100,3))\n",
        "\n",
        "    # Kết hợp các thành phần siamese distance\n",
        "    siamese_layer = L1Dist()\n",
        "    siamese_layer._name = 'distance'\n",
        "    distances = siamese_layer(embedding(input_image), embedding(validation_image))\n",
        "\n",
        "    # classification layer\n",
        "    classifier = Dense(1, activation='sigmoid')(distances)\n",
        "\n",
        "    return Model(inputs=[input_image, validation_image], outputs=classifier, name='SiameseNetwork')\n"
      ],
      "metadata": {
        "id": "shbAKMt6DHhh"
      },
      "execution_count": 42,
      "outputs": []
    },
    {
      "cell_type": "code",
      "source": [
        "siamese_network = Model(inputs=[input_image, validation_image], outputs=classifier, name='SiameseNetwork')"
      ],
      "metadata": {
        "id": "7xgex7VvFzr1"
      },
      "execution_count": 43,
      "outputs": []
    },
    {
      "cell_type": "code",
      "source": [
        "siamese_network.summary()"
      ],
      "metadata": {
        "id": "3gCS4yDaF4hF"
      },
      "execution_count": null,
      "outputs": []
    },
    {
      "cell_type": "markdown",
      "source": [
        "# 5.Huấn luyện"
      ],
      "metadata": {
        "id": "p0xDUY3uGgBH"
      }
    },
    {
      "cell_type": "markdown",
      "source": [
        "## 5.1.Setup Loss and Optimizer"
      ],
      "metadata": {
        "id": "Ic4zW3cMGjEM"
      }
    },
    {
      "cell_type": "code",
      "source": [
        "binary_cross_loss = tf.losses.BinaryCrossentropy()"
      ],
      "metadata": {
        "id": "MK0I0AG5HWKv"
      },
      "execution_count": 45,
      "outputs": []
    },
    {
      "cell_type": "code",
      "source": [
        "opt = tf.keras.optimizers.Adam(1e-4)"
      ],
      "metadata": {
        "id": "cReNbZY2HdFx"
      },
      "execution_count": 46,
      "outputs": []
    },
    {
      "cell_type": "markdown",
      "source": [
        "## Thiết lập checkpoints"
      ],
      "metadata": {
        "id": "Pt-CWo73GypF"
      }
    },
    {
      "cell_type": "code",
      "source": [
        "checkpoint_dir = '/content/test-colab/training_checkpoints'\n",
        "checkpoint_prefix = os.path.join(checkpoint_dir, 'ckpt')\n",
        "checkpoint = tf.train.Checkpoint(opt=opt, siamese_model=siamese_network)"
      ],
      "metadata": {
        "id": "xB54RZS8Hquy"
      },
      "execution_count": 47,
      "outputs": []
    },
    {
      "cell_type": "markdown",
      "source": [
        "## 5.3. Xây dựng các bước huấn luyện"
      ],
      "metadata": {
        "id": "wjOBL_tVG4-W"
      }
    },
    {
      "cell_type": "code",
      "source": [
        "test_batch = train_data.as_numpy_iterator()\n",
        "batch_1 = test_batch.next()\n"
      ],
      "metadata": {
        "id": "89yx-VOW9G2H"
      },
      "execution_count": null,
      "outputs": []
    },
    {
      "cell_type": "code",
      "source": [
        "x = batch_1[:2]"
      ],
      "metadata": {
        "id": "R1RPrm5492dw"
      },
      "execution_count": 58,
      "outputs": []
    },
    {
      "cell_type": "code",
      "source": [
        "np.array(x).shape"
      ],
      "metadata": {
        "colab": {
          "base_uri": "https://localhost:8080/"
        },
        "id": "io9HnvBG95Rw",
        "outputId": "b8557cd7-585d-463d-e055-28e7218a3d7a"
      },
      "execution_count": 60,
      "outputs": [
        {
          "output_type": "execute_result",
          "data": {
            "text/plain": [
              "(2, 16, 100, 100, 3)"
            ]
          },
          "metadata": {},
          "execution_count": 60
        }
      ]
    },
    {
      "cell_type": "code",
      "source": [
        "@tf.function\n",
        "def train_step(batch):\n",
        "  with tf.GradientTape() as tape:\n",
        "    # Lấy hình ảnh anchor, negative và positive\n",
        "    x = batch[:2]\n",
        "    # Lấy nhãn\n",
        "    y = batch[2]\n",
        "\n",
        "    #\n",
        "    yhat = siamese_network(x, training = True)\n",
        "    # Tính toán sự mất mát\n",
        "    loss = binary_cross_loss(y, yhat)\n",
        "  print(loss)\n",
        "\n",
        "  # tính toán gradients ( độ dốc )\n",
        "  grad = tape.gradient(loss, siamese_network.trainable_variables)\n",
        "\n",
        "  # tính toán trọng số cập nhật và áp dụng mô hình siamese\n",
        "  opt.apply_gradient(zip(grad, siamese_network.trainable_variables))\n",
        "\n",
        "  return loss"
      ],
      "metadata": {
        "id": "_Z2XqLsgLqUW"
      },
      "execution_count": 61,
      "outputs": []
    },
    {
      "cell_type": "markdown",
      "source": [
        "## 5.4. Xây dựng vòng lặp huấn luyện"
      ],
      "metadata": {
        "id": "m9lBmctYG6es"
      }
    },
    {
      "cell_type": "code",
      "source": [
        "def train(data, EPOCHS):\n",
        "  # vòng lặp thông qua epochs\n",
        "  for epoch in range(1, EPOCHS +1):\n",
        "    print('\\n Epoch {}/{}'.format(epoch, EPOCHS))\n",
        "    progbar = tf.keras.utils.Progbar(len(data))\n",
        "\n",
        "    # vòng lặp thông qua các lô (batch)\n",
        "    for idx, batch in enumerate(data):\n",
        "      train_step(batch)\n",
        "      progbar.update(idx+1)\n",
        "\n",
        "    if epoch % 10 ==0:\n",
        "      checkpoint.save(file_prefix=checkpoint_prefix)\n"
      ],
      "metadata": {
        "id": "CL_a4ax_Al7j"
      },
      "execution_count": null,
      "outputs": []
    },
    {
      "cell_type": "markdown",
      "source": [
        "## 5.5."
      ],
      "metadata": {
        "id": "U0U9eBXnG8Lo"
      }
    }
  ]
}