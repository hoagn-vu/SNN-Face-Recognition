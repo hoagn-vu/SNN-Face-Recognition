{
  "nbformat": 4,
  "nbformat_minor": 0,
  "metadata": {
    "colab": {
      "provenance": [],
      "include_colab_link": true
    },
    "kernelspec": {
      "name": "python3",
      "display_name": "Python 3"
    },
    "language_info": {
      "name": "python"
    }
  },
  "cells": [
    {
      "cell_type": "markdown",
      "metadata": {
        "id": "view-in-github",
        "colab_type": "text"
      },
      "source": [
        "<a href=\"https://colab.research.google.com/github/hoagn-vu/SNN-Face-Recognition/blob/main/Project_AI_CuoiKy.ipynb\" target=\"_parent\"><img src=\"https://colab.research.google.com/assets/colab-badge.svg\" alt=\"Open In Colab\"/></a>"
      ]
    },
    {
      "cell_type": "markdown",
      "source": [
        "# 1.Set up\n"
      ],
      "metadata": {
        "id": "NR5Ub_HRCl7l"
      }
    },
    {
      "cell_type": "markdown",
      "source": [
        "\n",
        "## 1.1. Cài đặt thư viện phụ thuộc\n"
      ],
      "metadata": {
        "id": "W-_VaMGiE5Z3"
      }
    },
    {
      "cell_type": "code",
      "source": [
        "!pip install numpy>=1.25.0\n"
      ],
      "metadata": {
        "id": "y4WGCtURHnHh"
      },
      "execution_count": null,
      "outputs": []
    },
    {
      "cell_type": "code",
      "source": [
        "!pip install tensorflow==2.12.0 tensorflow-cpu==2.12.0 opencv-python matplotlib"
      ],
      "metadata": {
        "id": "gUs6z71FFZZ7"
      },
      "execution_count": null,
      "outputs": []
    },
    {
      "cell_type": "markdown",
      "source": [
        "## 1.2.Tải thư viện\n"
      ],
      "metadata": {
        "id": "H7-Ph3FOIPNw"
      }
    },
    {
      "cell_type": "code",
      "source": [
        "import cv2\n",
        "import os\n",
        "import random\n",
        "import numpy as np\n",
        "from matplotlib import pyplot as plt"
      ],
      "metadata": {
        "id": "D6oXFuVfIZ_l"
      },
      "execution_count": null,
      "outputs": []
    },
    {
      "cell_type": "code",
      "source": [
        "# Import tensorflow dependencies - Functional API\n",
        "!pip install matplotlib-venn\n",
        "from tensorflow.keras.models import Model\n",
        "from tensorflow.keras.layers  import Layer, Conv2D, Dense, MaxPooling2D, Input, Flatten\n",
        "import tensorflow as tf"
      ],
      "metadata": {
        "id": "_0T64pRALwZl",
        "colab": {
          "base_uri": "https://localhost:8080/"
        },
        "outputId": "7346c880-2304-4d52-af0b-f7fe0fc654bb"
      },
      "execution_count": null,
      "outputs": [
        {
          "output_type": "stream",
          "name": "stdout",
          "text": [
            "Requirement already satisfied: matplotlib-venn in /usr/local/lib/python3.10/dist-packages (0.11.10)\n",
            "Requirement already satisfied: matplotlib in /usr/local/lib/python3.10/dist-packages (from matplotlib-venn) (3.7.1)\n",
            "Requirement already satisfied: numpy in /usr/local/lib/python3.10/dist-packages (from matplotlib-venn) (1.23.5)\n",
            "Requirement already satisfied: scipy in /usr/local/lib/python3.10/dist-packages (from matplotlib-venn) (1.11.4)\n",
            "Requirement already satisfied: contourpy>=1.0.1 in /usr/local/lib/python3.10/dist-packages (from matplotlib->matplotlib-venn) (1.2.1)\n",
            "Requirement already satisfied: cycler>=0.10 in /usr/local/lib/python3.10/dist-packages (from matplotlib->matplotlib-venn) (0.12.1)\n",
            "Requirement already satisfied: fonttools>=4.22.0 in /usr/local/lib/python3.10/dist-packages (from matplotlib->matplotlib-venn) (4.51.0)\n",
            "Requirement already satisfied: kiwisolver>=1.0.1 in /usr/local/lib/python3.10/dist-packages (from matplotlib->matplotlib-venn) (1.4.5)\n",
            "Requirement already satisfied: packaging>=20.0 in /usr/local/lib/python3.10/dist-packages (from matplotlib->matplotlib-venn) (24.0)\n",
            "Requirement already satisfied: pillow>=6.2.0 in /usr/local/lib/python3.10/dist-packages (from matplotlib->matplotlib-venn) (9.4.0)\n",
            "Requirement already satisfied: pyparsing>=2.3.1 in /usr/local/lib/python3.10/dist-packages (from matplotlib->matplotlib-venn) (3.1.2)\n",
            "Requirement already satisfied: python-dateutil>=2.7 in /usr/local/lib/python3.10/dist-packages (from matplotlib->matplotlib-venn) (2.8.2)\n",
            "Requirement already satisfied: six>=1.5 in /usr/local/lib/python3.10/dist-packages (from python-dateutil>=2.7->matplotlib->matplotlib-venn) (1.16.0)\n"
          ]
        }
      ]
    },
    {
      "cell_type": "markdown",
      "source": [
        "## 1.3.Khởi tạo GPU Growth"
      ],
      "metadata": {
        "id": "SbsKLHdUPBmQ"
      }
    },
    {
      "cell_type": "code",
      "source": [
        "gpus = tf.config.experimental.list_physical_devices('GPU')\n",
        "for gpu in gpus:\n",
        "    tf.config.experimental.set_memory_growth(gpu, True)"
      ],
      "metadata": {
        "id": "KJEw8lBtPDmz"
      },
      "execution_count": null,
      "outputs": []
    },
    {
      "cell_type": "markdown",
      "source": [
        "## 1.4.Tạo Folder"
      ],
      "metadata": {
        "id": "WAQpTDi3R1Ys"
      }
    },
    {
      "cell_type": "code",
      "source": [
        "# Khởi tạo đường dẫn\n",
        "POS_PATH = os.path.join('data', 'positive')\n",
        "NEG_PATH = os.path.join('data', 'negative')\n",
        "ANC_PATH = os.path.join('data', 'anchor')"
      ],
      "metadata": {
        "id": "EEkOv4m7R47e"
      },
      "execution_count": null,
      "outputs": []
    },
    {
      "cell_type": "code",
      "source": [
        "# Tạo folder\n",
        "os.makedirs(POS_PATH)\n",
        "os.makedirs(NEG_PATH)\n",
        "os.makedirs(ANC_PATH)"
      ],
      "metadata": {
        "id": "9raE4Kj7STtr"
      },
      "execution_count": null,
      "outputs": []
    },
    {
      "cell_type": "markdown",
      "source": [
        "# 2.Tạo file ảnh Positives và Anchors"
      ],
      "metadata": {
        "id": "i7p9dB_ONIHH"
      }
    },
    {
      "cell_type": "markdown",
      "source": [
        "## 2.1"
      ],
      "metadata": {
        "id": "MUCWb9jKNMQi"
      }
    },
    {
      "cell_type": "code",
      "source": [
        "for directory in os.listdir('lfw'):\n",
        "  for file in os.listdir(os.path.join('lfw', directory)):\n",
        "    EX_PATH = os.path.join('lfw', directory, file)\n",
        "    NEW_PATH = os.path.join(NEG_PATH, file)\n",
        "    os.replace(EX_PATH, NEW_PATH)"
      ],
      "metadata": {
        "id": "VReOgmzkNQUi"
      },
      "execution_count": null,
      "outputs": []
    },
    {
      "cell_type": "code",
      "source": [
        "# import shutil\n",
        "# import os\n",
        "\n",
        "# source_directory = 'drive/MyDrive/lfw1/lfw'\n",
        "# destination_directory = 'data/negative'\n",
        "\n",
        "# # Lặp qua các thư mục và tệp trong thư mục 'drive'\n",
        "# for directory in os.listdir(source_directory):\n",
        "#     full_directory_path = os.path.join(source_directory, directory)\n",
        "#     # Đảm bảo đường dẫn là thư mục\n",
        "#     if os.path.isdir(full_directory_path):\n",
        "#         for file in os.listdir(full_directory_path):\n",
        "#             source_file_path = os.path.join(full_directory_path, file)\n",
        "#             destination_file_path = os.path.join(destination_directory, file)\n",
        "#             # Sao chép tệp sang thư mục đích\n",
        "#             shutil.copyfile(source_file_path, destination_file_path)\n",
        "#             # Xóa tệp gốc sau khi sao chép\n",
        "#             os.remove(source_file_path)\n"
      ],
      "metadata": {
        "id": "SJTRNUja3tkr"
      },
      "execution_count": null,
      "outputs": []
    },
    {
      "cell_type": "markdown",
      "source": [
        "## 2.2.Tạo Positive và Anchor"
      ],
      "metadata": {
        "id": "dk5XkoNnXNUW"
      }
    },
    {
      "cell_type": "code",
      "source": [
        "import uuid"
      ],
      "metadata": {
        "id": "yv_EUQJxXIc5"
      },
      "execution_count": null,
      "outputs": []
    },
    {
      "cell_type": "code",
      "source": [
        "uuid.uuid1()"
      ],
      "metadata": {
        "id": "pklIaQTVXJfU"
      },
      "execution_count": null,
      "outputs": []
    },
    {
      "cell_type": "code",
      "source": [
        "import cv2\n",
        "cap = cv2.VideoCapture(0)\n",
        "while cap.isOpened():\n",
        "  ret, frame = cap.read()\n",
        "\n",
        "  frame = frame[120:120+250,200:200+250,:]\n",
        "\n",
        "  if cv2.waitKey(1) & 0XFF == ord('a'):\n",
        "    imgname = os.path.join(ANC_PATH, '{}.jpg'.format(uuid.uuid1()))\n",
        "    cv2.imwrite(imgname, frame)\n",
        "\n",
        "\n",
        "  if cv2.waitKey(1) & 0XFF == ord('p'):\n",
        "    imgname = os.path.join(POS_PATH, '{}.jpg'.format(uuid.uuid1()))\n",
        "    cv2.imwrite(imgname, frame)\n",
        "\n",
        "\n",
        "  cv2.imshow('Image Collection', frame)\n",
        "\n",
        "  if cv2.waitKey(1) & 0XFF == ord('q'):\n",
        "    break\n",
        "\n",
        "cap.release()\n",
        "\n",
        "cv2.destroyAllWindows()"
      ],
      "metadata": {
        "id": "r3Tz7iSxXU0Y"
      },
      "execution_count": null,
      "outputs": []
    }
  ]
}