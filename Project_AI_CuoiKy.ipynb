{
  "nbformat": 4,
  "nbformat_minor": 0,
  "metadata": {
    "colab": {
      "provenance": [],
      "collapsed_sections": [
        "MUCWb9jKNMQi",
        "21isKqJK1SCa"
      ],
      "include_colab_link": true
    },
    "kernelspec": {
      "name": "python3",
      "display_name": "Python 3"
    },
    "language_info": {
      "name": "python"
    }
  },
  "cells": [
    {
      "cell_type": "markdown",
      "metadata": {
        "id": "view-in-github",
        "colab_type": "text"
      },
      "source": [
        "<a href=\"https://colab.research.google.com/github/hoagn-vu/SNN-Face-Recognition/blob/main/Project_AI_CuoiKy.ipynb\" target=\"_parent\"><img src=\"https://colab.research.google.com/assets/colab-badge.svg\" alt=\"Open In Colab\"/></a>"
      ]
    },
    {
      "cell_type": "markdown",
      "source": [
        "# 1.Set up\n"
      ],
      "metadata": {
        "id": "NR5Ub_HRCl7l"
      }
    },
    {
      "cell_type": "markdown",
      "source": [
        "\n",
        "## 1.1. Cài đặt thư viện phụ thuộc\n"
      ],
      "metadata": {
        "id": "W-_VaMGiE5Z3"
      }
    },
    {
      "cell_type": "code",
      "source": [
        "!pip install numpy>=1.25.0\n"
      ],
      "metadata": {
        "id": "y4WGCtURHnHh"
      },
      "execution_count": 3,
      "outputs": []
    },
    {
      "cell_type": "code",
      "source": [
        "!pip install tensorflow==2.12.0 tensorflow-cpu==2.12.0 opencv-python matplotlib"
      ],
      "metadata": {
        "id": "gUs6z71FFZZ7",
        "colab": {
          "base_uri": "https://localhost:8080/"
        },
        "outputId": "a6e47675-923d-436f-b393-84288d8f636b"
      },
      "execution_count": 4,
      "outputs": [
        {
          "output_type": "stream",
          "name": "stdout",
          "text": [
            "Requirement already satisfied: tensorflow==2.12.0 in /usr/local/lib/python3.10/dist-packages (2.12.0)\n",
            "Requirement already satisfied: tensorflow-cpu==2.12.0 in /usr/local/lib/python3.10/dist-packages (2.12.0)\n",
            "Requirement already satisfied: opencv-python in /usr/local/lib/python3.10/dist-packages (4.8.0.76)\n",
            "Requirement already satisfied: matplotlib in /usr/local/lib/python3.10/dist-packages (3.7.1)\n",
            "Requirement already satisfied: absl-py>=1.0.0 in /usr/local/lib/python3.10/dist-packages (from tensorflow==2.12.0) (1.4.0)\n",
            "Requirement already satisfied: astunparse>=1.6.0 in /usr/local/lib/python3.10/dist-packages (from tensorflow==2.12.0) (1.6.3)\n",
            "Requirement already satisfied: flatbuffers>=2.0 in /usr/local/lib/python3.10/dist-packages (from tensorflow==2.12.0) (24.3.25)\n",
            "Requirement already satisfied: gast<=0.4.0,>=0.2.1 in /usr/local/lib/python3.10/dist-packages (from tensorflow==2.12.0) (0.4.0)\n",
            "Requirement already satisfied: google-pasta>=0.1.1 in /usr/local/lib/python3.10/dist-packages (from tensorflow==2.12.0) (0.2.0)\n",
            "Requirement already satisfied: grpcio<2.0,>=1.24.3 in /usr/local/lib/python3.10/dist-packages (from tensorflow==2.12.0) (1.63.0)\n",
            "Requirement already satisfied: h5py>=2.9.0 in /usr/local/lib/python3.10/dist-packages (from tensorflow==2.12.0) (3.9.0)\n",
            "Requirement already satisfied: jax>=0.3.15 in /usr/local/lib/python3.10/dist-packages (from tensorflow==2.12.0) (0.4.26)\n",
            "Requirement already satisfied: keras<2.13,>=2.12.0 in /usr/local/lib/python3.10/dist-packages (from tensorflow==2.12.0) (2.12.0)\n",
            "Requirement already satisfied: libclang>=13.0.0 in /usr/local/lib/python3.10/dist-packages (from tensorflow==2.12.0) (18.1.1)\n",
            "Requirement already satisfied: numpy<1.24,>=1.22 in /usr/local/lib/python3.10/dist-packages (from tensorflow==2.12.0) (1.23.5)\n",
            "Requirement already satisfied: opt-einsum>=2.3.2 in /usr/local/lib/python3.10/dist-packages (from tensorflow==2.12.0) (3.3.0)\n",
            "Requirement already satisfied: packaging in /usr/local/lib/python3.10/dist-packages (from tensorflow==2.12.0) (24.0)\n",
            "Requirement already satisfied: protobuf!=4.21.0,!=4.21.1,!=4.21.2,!=4.21.3,!=4.21.4,!=4.21.5,<5.0.0dev,>=3.20.3 in /usr/local/lib/python3.10/dist-packages (from tensorflow==2.12.0) (3.20.3)\n",
            "Requirement already satisfied: setuptools in /usr/local/lib/python3.10/dist-packages (from tensorflow==2.12.0) (67.7.2)\n",
            "Requirement already satisfied: six>=1.12.0 in /usr/local/lib/python3.10/dist-packages (from tensorflow==2.12.0) (1.16.0)\n",
            "Requirement already satisfied: tensorboard<2.13,>=2.12 in /usr/local/lib/python3.10/dist-packages (from tensorflow==2.12.0) (2.12.3)\n",
            "Requirement already satisfied: tensorflow-estimator<2.13,>=2.12.0 in /usr/local/lib/python3.10/dist-packages (from tensorflow==2.12.0) (2.12.0)\n",
            "Requirement already satisfied: termcolor>=1.1.0 in /usr/local/lib/python3.10/dist-packages (from tensorflow==2.12.0) (2.4.0)\n",
            "Requirement already satisfied: typing-extensions>=3.6.6 in /usr/local/lib/python3.10/dist-packages (from tensorflow==2.12.0) (4.11.0)\n",
            "Requirement already satisfied: wrapt<1.15,>=1.11.0 in /usr/local/lib/python3.10/dist-packages (from tensorflow==2.12.0) (1.14.1)\n",
            "Requirement already satisfied: tensorflow-io-gcs-filesystem>=0.23.1 in /usr/local/lib/python3.10/dist-packages (from tensorflow==2.12.0) (0.37.0)\n",
            "Requirement already satisfied: contourpy>=1.0.1 in /usr/local/lib/python3.10/dist-packages (from matplotlib) (1.2.1)\n",
            "Requirement already satisfied: cycler>=0.10 in /usr/local/lib/python3.10/dist-packages (from matplotlib) (0.12.1)\n",
            "Requirement already satisfied: fonttools>=4.22.0 in /usr/local/lib/python3.10/dist-packages (from matplotlib) (4.51.0)\n",
            "Requirement already satisfied: kiwisolver>=1.0.1 in /usr/local/lib/python3.10/dist-packages (from matplotlib) (1.4.5)\n",
            "Requirement already satisfied: pillow>=6.2.0 in /usr/local/lib/python3.10/dist-packages (from matplotlib) (9.4.0)\n",
            "Requirement already satisfied: pyparsing>=2.3.1 in /usr/local/lib/python3.10/dist-packages (from matplotlib) (3.1.2)\n",
            "Requirement already satisfied: python-dateutil>=2.7 in /usr/local/lib/python3.10/dist-packages (from matplotlib) (2.8.2)\n",
            "Requirement already satisfied: wheel<1.0,>=0.23.0 in /usr/local/lib/python3.10/dist-packages (from astunparse>=1.6.0->tensorflow==2.12.0) (0.43.0)\n",
            "Requirement already satisfied: ml-dtypes>=0.2.0 in /usr/local/lib/python3.10/dist-packages (from jax>=0.3.15->tensorflow==2.12.0) (0.2.0)\n",
            "Requirement already satisfied: scipy>=1.9 in /usr/local/lib/python3.10/dist-packages (from jax>=0.3.15->tensorflow==2.12.0) (1.11.4)\n",
            "Requirement already satisfied: google-auth<3,>=1.6.3 in /usr/local/lib/python3.10/dist-packages (from tensorboard<2.13,>=2.12->tensorflow==2.12.0) (2.27.0)\n",
            "Requirement already satisfied: google-auth-oauthlib<1.1,>=0.5 in /usr/local/lib/python3.10/dist-packages (from tensorboard<2.13,>=2.12->tensorflow==2.12.0) (1.0.0)\n",
            "Requirement already satisfied: markdown>=2.6.8 in /usr/local/lib/python3.10/dist-packages (from tensorboard<2.13,>=2.12->tensorflow==2.12.0) (3.6)\n",
            "Requirement already satisfied: requests<3,>=2.21.0 in /usr/local/lib/python3.10/dist-packages (from tensorboard<2.13,>=2.12->tensorflow==2.12.0) (2.31.0)\n",
            "Requirement already satisfied: tensorboard-data-server<0.8.0,>=0.7.0 in /usr/local/lib/python3.10/dist-packages (from tensorboard<2.13,>=2.12->tensorflow==2.12.0) (0.7.2)\n",
            "Requirement already satisfied: werkzeug>=1.0.1 in /usr/local/lib/python3.10/dist-packages (from tensorboard<2.13,>=2.12->tensorflow==2.12.0) (3.0.2)\n",
            "Requirement already satisfied: cachetools<6.0,>=2.0.0 in /usr/local/lib/python3.10/dist-packages (from google-auth<3,>=1.6.3->tensorboard<2.13,>=2.12->tensorflow==2.12.0) (5.3.3)\n",
            "Requirement already satisfied: pyasn1-modules>=0.2.1 in /usr/local/lib/python3.10/dist-packages (from google-auth<3,>=1.6.3->tensorboard<2.13,>=2.12->tensorflow==2.12.0) (0.4.0)\n",
            "Requirement already satisfied: rsa<5,>=3.1.4 in /usr/local/lib/python3.10/dist-packages (from google-auth<3,>=1.6.3->tensorboard<2.13,>=2.12->tensorflow==2.12.0) (4.9)\n",
            "Requirement already satisfied: requests-oauthlib>=0.7.0 in /usr/local/lib/python3.10/dist-packages (from google-auth-oauthlib<1.1,>=0.5->tensorboard<2.13,>=2.12->tensorflow==2.12.0) (1.3.1)\n",
            "Requirement already satisfied: charset-normalizer<4,>=2 in /usr/local/lib/python3.10/dist-packages (from requests<3,>=2.21.0->tensorboard<2.13,>=2.12->tensorflow==2.12.0) (3.3.2)\n",
            "Requirement already satisfied: idna<4,>=2.5 in /usr/local/lib/python3.10/dist-packages (from requests<3,>=2.21.0->tensorboard<2.13,>=2.12->tensorflow==2.12.0) (3.7)\n",
            "Requirement already satisfied: urllib3<3,>=1.21.1 in /usr/local/lib/python3.10/dist-packages (from requests<3,>=2.21.0->tensorboard<2.13,>=2.12->tensorflow==2.12.0) (2.0.7)\n",
            "Requirement already satisfied: certifi>=2017.4.17 in /usr/local/lib/python3.10/dist-packages (from requests<3,>=2.21.0->tensorboard<2.13,>=2.12->tensorflow==2.12.0) (2024.2.2)\n",
            "Requirement already satisfied: MarkupSafe>=2.1.1 in /usr/local/lib/python3.10/dist-packages (from werkzeug>=1.0.1->tensorboard<2.13,>=2.12->tensorflow==2.12.0) (2.1.5)\n",
            "Requirement already satisfied: pyasn1<0.7.0,>=0.4.6 in /usr/local/lib/python3.10/dist-packages (from pyasn1-modules>=0.2.1->google-auth<3,>=1.6.3->tensorboard<2.13,>=2.12->tensorflow==2.12.0) (0.6.0)\n",
            "Requirement already satisfied: oauthlib>=3.0.0 in /usr/local/lib/python3.10/dist-packages (from requests-oauthlib>=0.7.0->google-auth-oauthlib<1.1,>=0.5->tensorboard<2.13,>=2.12->tensorflow==2.12.0) (3.2.2)\n"
          ]
        }
      ]
    },
    {
      "cell_type": "markdown",
      "source": [
        "## 1.2.Tải thư viện\n"
      ],
      "metadata": {
        "id": "H7-Ph3FOIPNw"
      }
    },
    {
      "cell_type": "code",
      "source": [
        "import cv2\n",
        "import os\n",
        "import random\n",
        "import numpy as np\n",
        "from matplotlib import pyplot as plt"
      ],
      "metadata": {
        "id": "D6oXFuVfIZ_l"
      },
      "execution_count": 5,
      "outputs": []
    },
    {
      "cell_type": "code",
      "source": [
        "# Import tensorflow dependencies - Functional API\n",
        "!pip install matplotlib-venn\n",
        "from tensorflow.keras.models import Model\n",
        "from tensorflow.keras.layers  import Layer, Conv2D, Dense, MaxPooling2D, Input, Flatten\n",
        "import tensorflow as tf"
      ],
      "metadata": {
        "id": "_0T64pRALwZl",
        "colab": {
          "base_uri": "https://localhost:8080/"
        },
        "outputId": "43259d36-260c-49db-f5ee-eeaea61bd634"
      },
      "execution_count": 6,
      "outputs": [
        {
          "output_type": "stream",
          "name": "stdout",
          "text": [
            "Requirement already satisfied: matplotlib-venn in /usr/local/lib/python3.10/dist-packages (0.11.10)\n",
            "Requirement already satisfied: matplotlib in /usr/local/lib/python3.10/dist-packages (from matplotlib-venn) (3.7.1)\n",
            "Requirement already satisfied: numpy in /usr/local/lib/python3.10/dist-packages (from matplotlib-venn) (1.23.5)\n",
            "Requirement already satisfied: scipy in /usr/local/lib/python3.10/dist-packages (from matplotlib-venn) (1.11.4)\n",
            "Requirement already satisfied: contourpy>=1.0.1 in /usr/local/lib/python3.10/dist-packages (from matplotlib->matplotlib-venn) (1.2.1)\n",
            "Requirement already satisfied: cycler>=0.10 in /usr/local/lib/python3.10/dist-packages (from matplotlib->matplotlib-venn) (0.12.1)\n",
            "Requirement already satisfied: fonttools>=4.22.0 in /usr/local/lib/python3.10/dist-packages (from matplotlib->matplotlib-venn) (4.51.0)\n",
            "Requirement already satisfied: kiwisolver>=1.0.1 in /usr/local/lib/python3.10/dist-packages (from matplotlib->matplotlib-venn) (1.4.5)\n",
            "Requirement already satisfied: packaging>=20.0 in /usr/local/lib/python3.10/dist-packages (from matplotlib->matplotlib-venn) (24.0)\n",
            "Requirement already satisfied: pillow>=6.2.0 in /usr/local/lib/python3.10/dist-packages (from matplotlib->matplotlib-venn) (9.4.0)\n",
            "Requirement already satisfied: pyparsing>=2.3.1 in /usr/local/lib/python3.10/dist-packages (from matplotlib->matplotlib-venn) (3.1.2)\n",
            "Requirement already satisfied: python-dateutil>=2.7 in /usr/local/lib/python3.10/dist-packages (from matplotlib->matplotlib-venn) (2.8.2)\n",
            "Requirement already satisfied: six>=1.5 in /usr/local/lib/python3.10/dist-packages (from python-dateutil>=2.7->matplotlib->matplotlib-venn) (1.16.0)\n"
          ]
        }
      ]
    },
    {
      "cell_type": "markdown",
      "source": [
        "## 1.3.Khởi tạo GPU Growth"
      ],
      "metadata": {
        "id": "SbsKLHdUPBmQ"
      }
    },
    {
      "cell_type": "code",
      "source": [
        "gpus = tf.config.experimental.list_physical_devices('GPU')\n",
        "for gpu in gpus:\n",
        "    tf.config.experimental.set_memory_growth(gpu, True)"
      ],
      "metadata": {
        "id": "KJEw8lBtPDmz"
      },
      "execution_count": 7,
      "outputs": []
    },
    {
      "cell_type": "markdown",
      "source": [
        "## 1.4.Tạo Folder"
      ],
      "metadata": {
        "id": "WAQpTDi3R1Ys"
      }
    },
    {
      "cell_type": "code",
      "source": [
        "!git clone https://github.com/hoagn-vu/test-colab.git"
      ],
      "metadata": {
        "colab": {
          "base_uri": "https://localhost:8080/"
        },
        "id": "vDP9d3t0kBkA",
        "outputId": "45b19e52-83b4-4426-9f8c-e86f02fde2ca"
      },
      "execution_count": 8,
      "outputs": [
        {
          "output_type": "stream",
          "name": "stdout",
          "text": [
            "Cloning into 'test-colab'...\n",
            "remote: Enumerating objects: 13984, done.\u001b[K\n",
            "remote: Counting objects: 100% (8/8), done.\u001b[K\n",
            "remote: Compressing objects: 100% (6/6), done.\u001b[K\n",
            "remote: Total 13984 (delta 0), reused 6 (delta 0), pack-reused 13976\u001b[K\n",
            "Receiving objects: 100% (13984/13984), 192.36 MiB | 16.85 MiB/s, done.\n",
            "Updating files: 100% (13976/13976), done.\n"
          ]
        }
      ]
    },
    {
      "cell_type": "code",
      "source": [
        "# Đường dẫn đến thư mục chứa ảnh đã clone từ GitHub\n",
        "POS_PATH = '/content/test-colab/positive'\n",
        "NEG_PATH = '/content/test-colab/negative'\n",
        "ANC_PATH = '/content/test-colab/anchor'"
      ],
      "metadata": {
        "id": "RB6T7hEKkXT_"
      },
      "execution_count": 9,
      "outputs": []
    },
    {
      "cell_type": "code",
      "source": [
        "import os\n",
        "import matplotlib.pyplot as plt\n",
        "import matplotlib.image as mpimg\n",
        "# Liệt kê tất cả các file trong thư mục ảnh\n",
        "image_files = [f for f in os.listdir(POS_PATH) if os.path.isfile(os.path.join(POS_PATH, f))]\n",
        "\n",
        "# Duyệt qua từng tệp ảnh trong danh sách và nối chúng với đường dẫn thư mục\n",
        "for file_name in image_files:\n",
        "    full_path = os.path.join(ANC_PATH, file_name)\n",
        "    print(full_path)"
      ],
      "metadata": {
        "id": "8h8kpoOkk2lT",
        "colab": {
          "base_uri": "https://localhost:8080/"
        },
        "outputId": "410c6631-76b5-4116-9111-bf8339949253"
      },
      "execution_count": 10,
      "outputs": [
        {
          "output_type": "stream",
          "name": "stdout",
          "text": [
            "/content/test-colab/anchor/4ab69ede-0987-11ef-857c-ecee15d3d43b.jpg\n",
            "/content/test-colab/anchor/48edf0fb-0987-11ef-a33c-ecee15d3d43b.jpg\n",
            "/content/test-colab/anchor/8e67733f-0986-11ef-a49d-ecee15d3d43b.jpg\n",
            "/content/test-colab/anchor/54b2ab76-0987-11ef-922b-ecee15d3d43b.jpg\n",
            "/content/test-colab/anchor/475d9484-0987-11ef-b619-ecee15d3d43b.jpg\n",
            "/content/test-colab/anchor/8ecdc2d8-0986-11ef-920f-ecee15d3d43b.jpg\n",
            "/content/test-colab/anchor/4c4152aa-0987-11ef-9ce3-ecee15d3d43b.jpg\n",
            "/content/test-colab/anchor/5ad41108-0987-11ef-a7aa-ecee15d3d43b.jpg\n",
            "/content/test-colab/anchor/48d134a1-0987-11ef-a427-ecee15d3d43b.jpg\n",
            "/content/test-colab/anchor/4b3b96af-0987-11ef-9487-ecee15d3d43b.jpg\n",
            "/content/test-colab/anchor/89e50527-0986-11ef-bfb3-ecee15d3d43b.jpg\n",
            "/content/test-colab/anchor/54ebec97-0987-11ef-be9e-ecee15d3d43b.jpg\n",
            "/content/test-colab/anchor/565c82d3-0987-11ef-96b2-ecee15d3d43b.jpg\n",
            "/content/test-colab/anchor/4698f958-0987-11ef-9d99-ecee15d3d43b.jpg\n",
            "/content/test-colab/anchor/53ffbd9f-0987-11ef-a1ad-ecee15d3d43b.jpg\n",
            "/content/test-colab/anchor/8b898139-0986-11ef-aa21-ecee15d3d43b.jpg\n",
            "/content/test-colab/anchor/56b995a6-0987-11ef-a9fb-ecee15d3d43b.jpg\n",
            "/content/test-colab/anchor/8beaf775-0986-11ef-a3c3-ecee15d3d43b.jpg\n",
            "/content/test-colab/anchor/4cf60977-0987-11ef-89dd-ecee15d3d43b.jpg\n",
            "/content/test-colab/anchor/4a99fa0b-0987-11ef-99a7-ecee15d3d43b.jpg\n",
            "/content/test-colab/anchor/8ffce8dd-0986-11ef-b6d1-ecee15d3d43b.jpg\n",
            "/content/test-colab/anchor/8bb49211-0986-11ef-921f-ecee15d3d43b.jpg\n",
            "/content/test-colab/anchor/4b808a5f-0987-11ef-bf8a-ecee15d3d43b.jpg\n",
            "/content/test-colab/anchor/523afcab-0987-11ef-9613-ecee15d3d43b.jpg\n",
            "/content/test-colab/anchor/8aee672a-0986-11ef-af99-ecee15d3d43b.jpg\n",
            "/content/test-colab/anchor/5b3d22fd-0987-11ef-9e74-ecee15d3d43b.jpg\n",
            "/content/test-colab/anchor/8a244423-0986-11ef-a05e-ecee15d3d43b.jpg\n",
            "/content/test-colab/anchor/562af1bd-0987-11ef-8c6b-ecee15d3d43b.jpg\n",
            "/content/test-colab/anchor/95938016-0986-11ef-a7eb-ecee15d3d43b.jpg\n",
            "/content/test-colab/anchor/46541471-0987-11ef-b538-ecee15d3d43b.jpg\n",
            "/content/test-colab/anchor/95a1bce9-0986-11ef-8569-ecee15d3d43b.jpg\n",
            "/content/test-colab/anchor/8fd2116c-0986-11ef-9418-ecee15d3d43b.jpg\n",
            "/content/test-colab/anchor/4cbcc48f-0987-11ef-a210-ecee15d3d43b.jpg\n",
            "/content/test-colab/anchor/890359bf-0986-11ef-9599-ecee15d3d43b.jpg\n",
            "/content/test-colab/anchor/4a31c4fc-0987-11ef-a484-ecee15d3d43b.jpg\n",
            "/content/test-colab/anchor/589425b3-0987-11ef-8da6-ecee15d3d43b.jpg\n",
            "/content/test-colab/anchor/5b4b8fd5-0987-11ef-94d5-ecee15d3d43b.jpg\n",
            "/content/test-colab/anchor/8debbec6-0986-11ef-94da-ecee15d3d43b.jpg\n",
            "/content/test-colab/anchor/8f0d2824-0986-11ef-8b0d-ecee15d3d43b.jpg\n",
            "/content/test-colab/anchor/531b8b0d-0987-11ef-98b0-ecee15d3d43b.jpg\n",
            "/content/test-colab/anchor/55735311-0987-11ef-8bdd-ecee15d3d43b.jpg\n",
            "/content/test-colab/anchor/47c1c4b0-0987-11ef-a277-ecee15d3d43b.jpg\n",
            "/content/test-colab/anchor/4c540529-0987-11ef-a8ac-ecee15d3d43b.jpg\n",
            "/content/test-colab/anchor/8cb8e0ba-0986-11ef-aaa3-ecee15d3d43b.jpg\n",
            "/content/test-colab/anchor/93435968-0986-11ef-9eaa-ecee15d3d43b.jpg\n",
            "/content/test-colab/anchor/522cc925-0987-11ef-b17f-ecee15d3d43b.jpg\n",
            "/content/test-colab/anchor/95240959-0986-11ef-801b-ecee15d3d43b.jpg\n",
            "/content/test-colab/anchor/48c31391-0987-11ef-80ae-ecee15d3d43b.jpg\n",
            "/content/test-colab/anchor/569cddc9-0987-11ef-807d-ecee15d3d43b.jpg\n",
            "/content/test-colab/anchor/94c08d75-0986-11ef-92cf-ecee15d3d43b.jpg\n",
            "/content/test-colab/anchor/8d91635a-0986-11ef-8bfc-ecee15d3d43b.jpg\n",
            "/content/test-colab/anchor/899ba532-0986-11ef-8402-ecee15d3d43b.jpg\n",
            "/content/test-colab/anchor/49698ffd-0987-11ef-af4e-ecee15d3d43b.jpg\n",
            "/content/test-colab/anchor/581587a7-0987-11ef-9b21-ecee15d3d43b.jpg\n",
            "/content/test-colab/anchor/4c85bc30-0987-11ef-b33e-ecee15d3d43b.jpg\n",
            "/content/test-colab/anchor/5bb22872-0987-11ef-bbd6-ecee15d3d43b.jpg\n",
            "/content/test-colab/anchor/8e19488f-0986-11ef-9555-ecee15d3d43b.jpg\n",
            "/content/test-colab/anchor/5734ef66-0987-11ef-b112-ecee15d3d43b.jpg\n",
            "/content/test-colab/anchor/48f50a63-0987-11ef-9bca-ecee15d3d43b.jpg\n",
            "/content/test-colab/anchor/8ae0208d-0986-11ef-8ebd-ecee15d3d43b.jpg\n",
            "/content/test-colab/anchor/45f2b728-0987-11ef-8683-ecee15d3d43b.jpg\n",
            "/content/test-colab/anchor/8fb56db5-0986-11ef-ab0b-ecee15d3d43b.jpg\n",
            "/content/test-colab/anchor/55252772-0987-11ef-b1ad-ecee15d3d43b.jpg\n",
            "/content/test-colab/anchor/5265cddd-0987-11ef-bb6a-ecee15d3d43b.jpg\n",
            "/content/test-colab/anchor/4be6ba1e-0987-11ef-8b62-ecee15d3d43b.jpg\n",
            "/content/test-colab/anchor/49709dda-0987-11ef-9291-ecee15d3d43b.jpg\n",
            "/content/test-colab/anchor/48df8978-0987-11ef-8e4a-ecee15d3d43b.jpg\n",
            "/content/test-colab/anchor/5b59862e-0987-11ef-a784-ecee15d3d43b.jpg\n",
            "/content/test-colab/anchor/4b9d0d28-0987-11ef-bfd0-ecee15d3d43b.jpg\n",
            "/content/test-colab/anchor/8a99098b-0986-11ef-8ff2-ecee15d3d43b.jpg\n",
            "/content/test-colab/anchor/93fa7e3e-0986-11ef-a9ec-ecee15d3d43b.jpg\n",
            "/content/test-colab/anchor/8eff2b8b-0986-11ef-8285-ecee15d3d43b.jpg\n",
            "/content/test-colab/anchor/8a85ecb1-0986-11ef-8009-ecee15d3d43b.jpg\n",
            "/content/test-colab/anchor/8f309eda-0986-11ef-a182-ecee15d3d43b.jpg\n",
            "/content/test-colab/anchor/53eaa11f-0987-11ef-8773-ecee15d3d43b.jpg\n",
            "/content/test-colab/anchor/592bfa42-0987-11ef-b018-ecee15d3d43b.jpg\n",
            "/content/test-colab/anchor/54534657-0987-11ef-9d13-ecee15d3d43b.jpg\n",
            "/content/test-colab/anchor/a3c7b1d9-0987-11ef-a0cd-ecee15d3d43b.jpg\n",
            "/content/test-colab/anchor/53f191fe-0987-11ef-ac68-ecee15d3d43b.jpg\n",
            "/content/test-colab/anchor/541c94c8-0987-11ef-b60c-ecee15d3d43b.jpg\n",
            "/content/test-colab/anchor/55816285-0987-11ef-be18-ecee15d3d43b.jpg\n",
            "/content/test-colab/anchor/4639b8f9-0987-11ef-8c3d-ecee15d3d43b.jpg\n",
            "/content/test-colab/anchor/5b35eefb-0987-11ef-ab1f-ecee15d3d43b.jpg\n",
            "/content/test-colab/anchor/94767a2b-0986-11ef-a960-ecee15d3d43b.jpg\n",
            "/content/test-colab/anchor/88f29473-0986-11ef-aac9-ecee15d3d43b.jpg\n",
            "/content/test-colab/anchor/57863ac1-0987-11ef-b656-ecee15d3d43b.jpg\n",
            "/content/test-colab/anchor/4b8ecdc7-0987-11ef-8125-ecee15d3d43b.jpg\n",
            "/content/test-colab/anchor/8c6c033b-0986-11ef-a9d3-ecee15d3d43b.jpg\n",
            "/content/test-colab/anchor/4911b8bd-0987-11ef-9a65-ecee15d3d43b.jpg\n",
            "/content/test-colab/anchor/9327194e-0986-11ef-9800-ecee15d3d43b.jpg\n",
            "/content/test-colab/anchor/8a8ab6ed-0986-11ef-925a-ecee15d3d43b.jpg\n",
            "/content/test-colab/anchor/8f1b7ebe-0986-11ef-a84c-ecee15d3d43b.jpg\n",
            "/content/test-colab/anchor/93590023-0986-11ef-9796-ecee15d3d43b.jpg\n",
            "/content/test-colab/anchor/52ca27eb-0987-11ef-a289-ecee15d3d43b.jpg\n",
            "/content/test-colab/anchor/95e1a147-0986-11ef-a0e5-ecee15d3d43b.jpg\n",
            "/content/test-colab/anchor/8f6995e8-0986-11ef-b9be-ecee15d3d43b.jpg\n",
            "/content/test-colab/anchor/9408e7d5-0986-11ef-bed7-ecee15d3d43b.jpg\n",
            "/content/test-colab/anchor/8f5b4123-0986-11ef-b487-ecee15d3d43b.jpg\n",
            "/content/test-colab/anchor/481a4585-0987-11ef-bac3-ecee15d3d43b.jpg\n",
            "/content/test-colab/anchor/57d49657-0987-11ef-927e-ecee15d3d43b.jpg\n",
            "/content/test-colab/anchor/4c622eed-0987-11ef-806c-ecee15d3d43b.jpg\n",
            "/content/test-colab/anchor/525794dd-0987-11ef-9b80-ecee15d3d43b.jpg\n",
            "/content/test-colab/anchor/8f92216a-0986-11ef-9c10-ecee15d3d43b.jpg\n",
            "/content/test-colab/anchor/54dd99b8-0987-11ef-a232-ecee15d3d43b.jpg\n",
            "/content/test-colab/anchor/8c9e7ca4-0986-11ef-9770-ecee15d3d43b.jpg\n",
            "/content/test-colab/anchor/93670661-0986-11ef-be5e-ecee15d3d43b.jpg\n",
            "/content/test-colab/anchor/8cd5a0be-0986-11ef-81de-ecee15d3d43b.jpg\n",
            "/content/test-colab/anchor/47016b53-0987-11ef-bb28-ecee15d3d43b.jpg\n",
            "/content/test-colab/anchor/8911b823-0986-11ef-8166-ecee15d3d43b.jpg\n",
            "/content/test-colab/anchor/45d8e66c-0987-11ef-b0d7-ecee15d3d43b.jpg\n",
            "/content/test-colab/anchor/53a54ff1-0987-11ef-9401-ecee15d3d43b.jpg\n",
            "/content/test-colab/anchor/4859e759-0987-11ef-92e7-ecee15d3d43b.jpg\n",
            "/content/test-colab/anchor/4c0a849f-0987-11ef-91d8-ecee15d3d43b.jpg\n",
            "/content/test-colab/anchor/892e2c0a-0986-11ef-8132-ecee15d3d43b.jpg\n",
            "/content/test-colab/anchor/93d6d493-0986-11ef-8428-ecee15d3d43b.jpg\n",
            "/content/test-colab/anchor/598b0295-0987-11ef-ac75-ecee15d3d43b.jpg\n",
            "/content/test-colab/anchor/5a1a0380-0987-11ef-bd71-ecee15d3d43b.jpg\n",
            "/content/test-colab/anchor/4561fea4-0987-11ef-9dc0-ecee15d3d43b.jpg\n",
            "/content/test-colab/anchor/58e30e8e-0987-11ef-91c6-ecee15d3d43b.jpg\n",
            "/content/test-colab/anchor/4a238910-0987-11ef-9cbc-ecee15d3d43b.jpg\n",
            "/content/test-colab/anchor/9417189f-0986-11ef-8aa8-ecee15d3d43b.jpg\n",
            "/content/test-colab/anchor/4c77667e-0987-11ef-ac0d-ecee15d3d43b.jpg\n",
            "/content/test-colab/anchor/8b6f1eff-0986-11ef-ad6f-ecee15d3d43b.jpg\n",
            "/content/test-colab/anchor/4aa85fe9-0987-11ef-9182-ecee15d3d43b.jpg\n",
            "/content/test-colab/anchor/51d20231-0987-11ef-9842-ecee15d3d43b.jpg\n",
            "/content/test-colab/anchor/566aba9a-0987-11ef-9cce-ecee15d3d43b.jpg\n",
            "/content/test-colab/anchor/52fc6507-0987-11ef-a35e-ecee15d3d43b.jpg\n",
            "/content/test-colab/anchor/58d490ed-0987-11ef-81b8-ecee15d3d43b.jpg\n",
            "/content/test-colab/anchor/564e5e5d-0987-11ef-aa7e-ecee15d3d43b.jpg\n",
            "/content/test-colab/anchor/45dffc42-0987-11ef-8474-ecee15d3d43b.jpg\n",
            "/content/test-colab/anchor/47deb89a-0987-11ef-bd9c-ecee15d3d43b.jpg\n",
            "/content/test-colab/anchor/4528b1a1-0987-11ef-8744-ecee15d3d43b.jpg\n",
            "/content/test-colab/anchor/4a76406b-0987-11ef-931a-ecee15d3d43b.jpg\n",
            "/content/test-colab/anchor/5a0bbfc7-0987-11ef-97c9-ecee15d3d43b.jpg\n",
            "/content/test-colab/anchor/5b956508-0987-11ef-af26-ecee15d3d43b.jpg\n",
            "/content/test-colab/anchor/934aa548-0986-11ef-bc5a-ecee15d3d43b.jpg\n",
            "/content/test-colab/anchor/52edf75d-0987-11ef-b897-ecee15d3d43b.jpg\n",
            "/content/test-colab/anchor/4d102dd9-0987-11ef-a8ef-ecee15d3d43b.jpg\n",
            "/content/test-colab/anchor/8d478f8e-0986-11ef-9536-ecee15d3d43b.jpg\n",
            "/content/test-colab/anchor/9500c180-0986-11ef-817f-ecee15d3d43b.jpg\n",
            "/content/test-colab/anchor/a4161a75-0987-11ef-af42-ecee15d3d43b.jpg\n",
            "/content/test-colab/anchor/51c3943b-0987-11ef-8555-ecee15d3d43b.jpg\n",
            "/content/test-colab/anchor/5acce969-0987-11ef-94f1-ecee15d3d43b.jpg\n",
            "/content/test-colab/anchor/489f3afc-0987-11ef-ba54-ecee15d3d43b.jpg\n",
            "/content/test-colab/anchor/8c4f4dd6-0986-11ef-94a3-ecee15d3d43b.jpg\n",
            "/content/test-colab/anchor/8dab90ba-0986-11ef-883b-ecee15d3d43b.jpg\n",
            "/content/test-colab/anchor/53c20fd1-0987-11ef-bd2b-ecee15d3d43b.jpg\n",
            "/content/test-colab/anchor/55416fbb-0987-11ef-ad60-ecee15d3d43b.jpg\n",
            "/content/test-colab/anchor/8c2b89f2-0986-11ef-8f19-ecee15d3d43b.jpg\n",
            "/content/test-colab/anchor/9318bddd-0986-11ef-b0b1-ecee15d3d43b.jpg\n",
            "/content/test-colab/anchor/4b263c27-0987-11ef-8dbf-ecee15d3d43b.jpg\n",
            "/content/test-colab/anchor/5753e819-0987-11ef-83f7-ecee15d3d43b.jpg\n",
            "/content/test-colab/anchor/4b17ec87-0987-11ef-93e7-ecee15d3d43b.jpg\n",
            "/content/test-colab/anchor/5493b2ec-0987-11ef-b4a1-ecee15d3d43b.jpg\n",
            "/content/test-colab/anchor/5ba3da95-0987-11ef-84e3-ecee15d3d43b.jpg\n",
            "/content/test-colab/anchor/8ddd80c8-0986-11ef-9958-ecee15d3d43b.jpg\n",
            "/content/test-colab/anchor/494cd8f3-0987-11ef-adf4-ecee15d3d43b.jpg\n",
            "/content/test-colab/anchor/93ec22c4-0986-11ef-a5a7-ecee15d3d43b.jpg\n",
            "/content/test-colab/anchor/52740ceb-0987-11ef-9b55-ecee15d3d43b.jpg\n",
            "/content/test-colab/anchor/476bfabe-0987-11ef-b2e0-ecee15d3d43b.jpg\n",
            "/content/test-colab/anchor/4a1542ac-0987-11ef-9b44-ecee15d3d43b.jpg\n",
            "/content/test-colab/anchor/55f82cdd-0987-11ef-a4c6-ecee15d3d43b.jpg\n",
            "/content/test-colab/anchor/45456e28-0987-11ef-a086-ecee15d3d43b.jpg\n",
            "/content/test-colab/anchor/8a6940e6-0986-11ef-bc81-ecee15d3d43b.jpg\n",
            "/content/test-colab/anchor/89d6b3ef-0986-11ef-aeeb-ecee15d3d43b.jpg\n",
            "/content/test-colab/anchor/51694dd1-0987-11ef-a4c8-ecee15d3d43b.jpg\n",
            "/content/test-colab/anchor/56eb58e5-0987-11ef-97be-ecee15d3d43b.jpg\n",
            "/content/test-colab/anchor/56ab4e7f-0987-11ef-a6d0-ecee15d3d43b.jpg\n",
            "/content/test-colab/anchor/468aeaa9-0987-11ef-b9ef-ecee15d3d43b.jpg\n",
            "/content/test-colab/anchor/45372998-0987-11ef-8fc5-ecee15d3d43b.jpg\n",
            "/content/test-colab/anchor/8c5db7e1-0986-11ef-bb83-ecee15d3d43b.jpg\n",
            "/content/test-colab/anchor/52042c82-0987-11ef-b1a5-ecee15d3d43b.jpg\n",
            "/content/test-colab/anchor/8d74c081-0986-11ef-b868-ecee15d3d43b.jpg\n",
            "/content/test-colab/anchor/89200513-0986-11ef-9723-ecee15d3d43b.jpg\n",
            "/content/test-colab/anchor/897f07b4-0986-11ef-aeb7-ecee15d3d43b.jpg\n",
            "/content/test-colab/anchor/8a00d89f-0986-11ef-bd8b-ecee15d3d43b.jpg\n",
            "/content/test-colab/anchor/94dd572f-0986-11ef-888a-ecee15d3d43b.jpg\n",
            "/content/test-colab/anchor/4c189e3d-0987-11ef-b818-ecee15d3d43b.jpg\n",
            "/content/test-colab/anchor/5606e619-0987-11ef-b4a9-ecee15d3d43b.jpg\n",
            "/content/test-colab/anchor/8b2e9997-0986-11ef-a0be-ecee15d3d43b.jpg\n",
            "/content/test-colab/anchor/8fe04e4f-0986-11ef-ab12-ecee15d3d43b.jpg\n",
            "/content/test-colab/anchor/950ec3d1-0986-11ef-b996-ecee15d3d43b.jpg\n",
            "/content/test-colab/anchor/555dc691-0987-11ef-ae39-ecee15d3d43b.jpg\n",
            "/content/test-colab/anchor/8f83daa9-0986-11ef-b99b-ecee15d3d43b.jpg\n",
            "/content/test-colab/anchor/48ad7648-0987-11ef-95ae-ecee15d3d43b.jpg\n",
            "/content/test-colab/anchor/8ba654c3-0986-11ef-a6f8-ecee15d3d43b.jpg\n",
            "/content/test-colab/anchor/8d9faba8-0986-11ef-a3a5-ecee15d3d43b.jpg\n",
            "/content/test-colab/anchor/49033a36-0987-11ef-8a14-ecee15d3d43b.jpg\n",
            "/content/test-colab/anchor/462b933a-0987-11ef-8600-ecee15d3d43b.jpg\n",
            "/content/test-colab/anchor/8e841e61-0986-11ef-b2ac-ecee15d3d43b.jpg\n",
            "/content/test-colab/anchor/8c902d52-0986-11ef-bf03-ecee15d3d43b.jpg\n",
            "/content/test-colab/anchor/4553d051-0987-11ef-b95b-ecee15d3d43b.jpg\n",
            "/content/test-colab/anchor/544538ae-0987-11ef-b455-ecee15d3d43b.jpg\n",
            "/content/test-colab/anchor/55c1ac63-0987-11ef-a2bf-ecee15d3d43b.jpg\n",
            "/content/test-colab/anchor/8b97f85c-0986-11ef-9952-ecee15d3d43b.jpg\n",
            "/content/test-colab/anchor/5249528b-0987-11ef-953d-ecee15d3d43b.jpg\n",
            "/content/test-colab/anchor/8ea2bdac-0986-11ef-a5fe-ecee15d3d43b.jpg\n",
            "/content/test-colab/anchor/895b6d65-0986-11ef-aa35-ecee15d3d43b.jpg\n",
            "/content/test-colab/anchor/55d467c2-0987-11ef-acf5-ecee15d3d43b.jpg\n",
            "/content/test-colab/anchor/59a78a22-0987-11ef-96fe-ecee15d3d43b.jpg\n",
            "/content/test-colab/anchor/5726d3ce-0987-11ef-947c-ecee15d3d43b.jpg\n",
            "/content/test-colab/anchor/5461a5da-0987-11ef-9b16-ecee15d3d43b.jpg\n",
            "/content/test-colab/anchor/4bc0b5b7-0987-11ef-93e9-ecee15d3d43b.jpg\n",
            "/content/test-colab/anchor/8c7a934b-0986-11ef-bfa6-ecee15d3d43b.jpg\n",
            "/content/test-colab/anchor/8dcf5b1c-0986-11ef-89e4-ecee15d3d43b.jpg\n",
            "/content/test-colab/anchor/59fd6e00-0987-11ef-9ebe-ecee15d3d43b.jpg\n",
            "/content/test-colab/anchor/49c41c04-0987-11ef-85f3-ecee15d3d43b.jpg\n",
            "/content/test-colab/anchor/95407f00-0986-11ef-a31d-ecee15d3d43b.jpg\n",
            "/content/test-colab/anchor/89c878e0-0986-11ef-ac3f-ecee15d3d43b.jpg\n",
            "/content/test-colab/anchor/8e0d45cb-0986-11ef-b4b8-ecee15d3d43b.jpg\n",
            "/content/test-colab/anchor/4afbb632-0987-11ef-88aa-ecee15d3d43b.jpg\n",
            "/content/test-colab/anchor/8d668a5c-0986-11ef-8686-ecee15d3d43b.jpg\n",
            "/content/test-colab/anchor/8e43db21-0986-11ef-a351-ecee15d3d43b.jpg\n",
            "/content/test-colab/anchor/4b640029-0987-11ef-8951-ecee15d3d43b.jpg\n",
            "/content/test-colab/anchor/5a7e108e-0987-11ef-8452-ecee15d3d43b.jpg\n",
            "/content/test-colab/anchor/95327425-0986-11ef-96cb-ecee15d3d43b.jpg\n",
            "/content/test-colab/anchor/4b49eb50-0987-11ef-a7a7-ecee15d3d43b.jpg\n",
            "/content/test-colab/anchor/54c11d13-0987-11ef-b17e-ecee15d3d43b.jpg\n",
            "/content/test-colab/anchor/47d050d1-0987-11ef-b280-ecee15d3d43b.jpg\n",
            "/content/test-colab/anchor/472bedf4-0987-11ef-b2a0-ecee15d3d43b.jpg\n",
            "/content/test-colab/anchor/53dc2fd1-0987-11ef-acd6-ecee15d3d43b.jpg\n",
            "/content/test-colab/anchor/8d2b04a0-0986-11ef-be1d-ecee15d3d43b.jpg\n",
            "/content/test-colab/anchor/533799c9-0987-11ef-b863-ecee15d3d43b.jpg\n",
            "/content/test-colab/anchor/4890e2e9-0987-11ef-8e7e-ecee15d3d43b.jpg\n",
            "/content/test-colab/anchor/95c5452c-0986-11ef-a0c1-ecee15d3d43b.jpg\n",
            "/content/test-colab/anchor/9492fef3-0986-11ef-96bd-ecee15d3d43b.jpg\n",
            "/content/test-colab/anchor/5b278a18-0987-11ef-9567-ecee15d3d43b.jpg\n",
            "/content/test-colab/anchor/8caa8fc7-0986-11ef-843f-ecee15d3d43b.jpg\n",
            "/content/test-colab/anchor/8ef803fa-0986-11ef-a64f-ecee15d3d43b.jpg\n",
            "/content/test-colab/anchor/4caec2a4-0987-11ef-8263-ecee15d3d43b.jpg\n",
            "/content/test-colab/anchor/8f77c523-0986-11ef-a154-ecee15d3d43b.jpg\n",
            "/content/test-colab/anchor/493c592b-0987-11ef-b83f-ecee15d3d43b.jpg\n",
            "/content/test-colab/anchor/56c7a775-0987-11ef-a155-ecee15d3d43b.jpg\n",
            "/content/test-colab/anchor/5ae6fbd5-0987-11ef-833b-ecee15d3d43b.jpg\n",
            "/content/test-colab/anchor/49ef3c39-0987-11ef-8aa8-ecee15d3d43b.jpg\n",
            "/content/test-colab/anchor/59e7dd67-0987-11ef-a916-ecee15d3d43b.jpg\n",
            "/content/test-colab/anchor/94a3cea0-0986-11ef-9261-ecee15d3d43b.jpg\n",
            "/content/test-colab/anchor/5a688236-0987-11ef-bf25-ecee15d3d43b.jpg\n",
            "/content/test-colab/anchor/5999515a-0987-11ef-a192-ecee15d3d43b.jpg\n",
            "/content/test-colab/anchor/4a40119e-0987-11ef-aca5-ecee15d3d43b.jpg\n",
            "/content/test-colab/anchor/46c0e779-0987-11ef-8601-ecee15d3d43b.jpg\n",
            "/content/test-colab/anchor/8cc74fcc-0986-11ef-b753-ecee15d3d43b.jpg\n",
            "/content/test-colab/anchor/95799de6-0986-11ef-92ff-ecee15d3d43b.jpg\n",
            "/content/test-colab/anchor/8fa0216f-0986-11ef-8bc3-ecee15d3d43b.jpg\n",
            "/content/test-colab/anchor/48215b42-0987-11ef-98d9-ecee15d3d43b.jpg\n",
            "/content/test-colab/anchor/8b0adef0-0986-11ef-990c-ecee15d3d43b.jpg\n",
            "/content/test-colab/anchor/893c7351-0986-11ef-9ac7-ecee15d3d43b.jpg\n",
            "/content/test-colab/anchor/954ebdde-0986-11ef-8113-ecee15d3d43b.jpg\n",
            "/content/test-colab/anchor/5b1241ed-0987-11ef-b09a-ecee15d3d43b.jpg\n",
            "/content/test-colab/anchor/479db737-0987-11ef-9bca-ecee15d3d43b.jpg\n",
            "/content/test-colab/anchor/8dfa075b-0986-11ef-a5cb-ecee15d3d43b.jpg\n",
            "/content/test-colab/anchor/945c43a5-0986-11ef-b48f-ecee15d3d43b.jpg\n",
            "/content/test-colab/anchor/8eb12a32-0986-11ef-b3e7-ecee15d3d43b.jpg\n",
            "/content/test-colab/anchor/54853ba2-0987-11ef-b537-ecee15d3d43b.jpg\n",
            "/content/test-colab/anchor/8afce615-0986-11ef-a46c-ecee15d3d43b.jpg\n",
            "/content/test-colab/anchor/58c6470d-0987-11ef-8eab-ecee15d3d43b.jpg\n",
            "/content/test-colab/anchor/58f3af9b-0987-11ef-acc3-ecee15d3d43b.jpg\n",
            "/content/test-colab/anchor/8bcebd01-0986-11ef-93ef-ecee15d3d43b.jpg\n",
            "/content/test-colab/anchor/56152a51-0987-11ef-8f79-ecee15d3d43b.jpg\n",
            "/content/test-colab/anchor/57f8aa70-0987-11ef-86da-ecee15d3d43b.jpg\n",
            "/content/test-colab/anchor/54cf56ed-0987-11ef-95ce-ecee15d3d43b.jpg\n",
            "/content/test-colab/anchor/53b3c72f-0987-11ef-a888-ecee15d3d43b.jpg\n",
            "/content/test-colab/anchor/8a5d3175-0986-11ef-9976-ecee15d3d43b.jpg\n",
            "/content/test-colab/anchor/8bc2ccfa-0986-11ef-b8a5-ecee15d3d43b.jpg\n",
            "/content/test-colab/anchor/59d96e10-0987-11ef-989f-ecee15d3d43b.jpg\n",
            "/content/test-colab/anchor/8c39a1b8-0986-11ef-9ee7-ecee15d3d43b.jpg\n",
            "/content/test-colab/anchor/597cece9-0987-11ef-a20a-ecee15d3d43b.jpg\n",
            "/content/test-colab/anchor/4b58261f-0987-11ef-ab4f-ecee15d3d43b.jpg\n",
            "/content/test-colab/anchor/a3b26e65-0987-11ef-b0dc-ecee15d3d43b.jpg\n",
            "/content/test-colab/anchor/582ad4dc-0987-11ef-b38c-ecee15d3d43b.jpg\n",
            "/content/test-colab/anchor/59cb6237-0987-11ef-99f5-ecee15d3d43b.jpg\n",
            "/content/test-colab/anchor/558f8915-0987-11ef-9519-ecee15d3d43b.jpg\n",
            "/content/test-colab/anchor/5bd3d0c1-0987-11ef-9a04-ecee15d3d43b.jpg\n",
            "/content/test-colab/anchor/59c44017-0987-11ef-b8a2-ecee15d3d43b.jpg\n",
            "/content/test-colab/anchor/4b09dbc9-0987-11ef-bb92-ecee15d3d43b.jpg\n",
            "/content/test-colab/anchor/8f299389-0986-11ef-ac2a-ecee15d3d43b.jpg\n",
            "/content/test-colab/anchor/556c2d3e-0987-11ef-9175-ecee15d3d43b.jpg\n",
            "/content/test-colab/anchor/4b723954-0987-11ef-ba17-ecee15d3d43b.jpg\n",
            "/content/test-colab/anchor/a3e4316b-0987-11ef-8b25-ecee15d3d43b.jpg\n",
            "/content/test-colab/anchor/5a4c17b0-0987-11ef-adc9-ecee15d3d43b.jpg\n",
            "/content/test-colab/anchor/946a9d99-0986-11ef-a0b5-ecee15d3d43b.jpg\n",
            "/content/test-colab/anchor/51eef181-0987-11ef-a815-ecee15d3d43b.jpg\n",
            "/content/test-colab/anchor/542b1720-0987-11ef-bf15-ecee15d3d43b.jpg\n",
            "/content/test-colab/anchor/4a5c500d-0987-11ef-add0-ecee15d3d43b.jpg\n",
            "/content/test-colab/anchor/56390a2d-0987-11ef-88a4-ecee15d3d43b.jpg\n",
            "/content/test-colab/anchor/951d1102-0986-11ef-bb8a-ecee15d3d43b.jpg\n",
            "/content/test-colab/anchor/47ef5c6e-0987-11ef-a26e-ecee15d3d43b.jpg\n",
            "/content/test-colab/anchor/8ce3b3a8-0986-11ef-b04e-ecee15d3d43b.jpg\n",
            "/content/test-colab/anchor/57b7f8bd-0987-11ef-9f12-ecee15d3d43b.jpg\n",
            "/content/test-colab/anchor/8f22a337-0986-11ef-81cf-ecee15d3d43b.jpg\n",
            "/content/test-colab/anchor/5866cfa8-0987-11ef-97a5-ecee15d3d43b.jpg\n",
            "/content/test-colab/anchor/527b45ab-0987-11ef-b18f-ecee15d3d43b.jpg\n",
            "/content/test-colab/anchor/4bfc28b6-0987-11ef-b737-ecee15d3d43b.jpg\n",
            "/content/test-colab/anchor/5476fc6c-0987-11ef-a087-ecee15d3d43b.jpg\n",
            "/content/test-colab/anchor/57c63837-0987-11ef-950b-ecee15d3d43b.jpg\n",
            "/content/test-colab/anchor/56fbf2db-0987-11ef-a59e-ecee15d3d43b.jpg\n",
            "/content/test-colab/anchor/943fa8a6-0986-11ef-8d8e-ecee15d3d43b.jpg\n",
            "/content/test-colab/anchor/568ead5f-0987-11ef-8d06-ecee15d3d43b.jpg\n",
            "/content/test-colab/anchor/49e0e037-0987-11ef-bb72-ecee15d3d43b.jpg\n",
            "/content/test-colab/anchor/593a93cb-0987-11ef-ae74-ecee15d3d43b.jpg\n",
            "/content/test-colab/anchor/52d87077-0987-11ef-89c4-ecee15d3d43b.jpg\n",
            "/content/test-colab/anchor/94b23073-0986-11ef-ad90-ecee15d3d43b.jpg\n",
            "/content/test-colab/anchor/8e35bbd0-0986-11ef-a7a3-ecee15d3d43b.jpg\n",
            "/content/test-colab/anchor/8ee9acb8-0986-11ef-8543-ecee15d3d43b.jpg\n",
            "/content/test-colab/anchor/458a7c68-0987-11ef-b7cf-ecee15d3d43b.jpg\n",
            "/content/test-colab/anchor/57a2896b-0987-11ef-89a9-ecee15d3d43b.jpg\n",
            "/content/test-colab/anchor/89f2bc8b-0986-11ef-8604-ecee15d3d43b.jpg\n",
            "/content/test-colab/anchor/4d01fa61-0987-11ef-95b4-ecee15d3d43b.jpg\n",
            "/content/test-colab/anchor/a3f28057-0987-11ef-9462-ecee15d3d43b.jpg\n",
            "/content/test-colab/anchor/5b03c84e-0987-11ef-ade4-ecee15d3d43b.jpg\n",
            "/content/test-colab/anchor/4bab56c1-0987-11ef-a4a1-ecee15d3d43b.jpg\n",
            "/content/test-colab/anchor/45053b32-0987-11ef-bff5-ecee15d3d43b.jpg\n",
            "/content/test-colab/anchor/94f27b48-0986-11ef-8e3b-ecee15d3d43b.jpg\n",
            "/content/test-colab/anchor/93751f3e-0986-11ef-8ab5-ecee15d3d43b.jpg\n",
            "/content/test-colab/anchor/53817be1-0987-11ef-bddb-ecee15d3d43b.jpg\n",
            "/content/test-colab/anchor/45bc83a1-0987-11ef-88d0-ecee15d3d43b.jpg\n",
            "/content/test-colab/anchor/a400ab56-0987-11ef-9458-ecee15d3d43b.jpg\n",
            "/content/test-colab/anchor/4ccb18e5-0987-11ef-89a7-ecee15d3d43b.jpg\n",
            "/content/test-colab/anchor/537372df-0987-11ef-87ea-ecee15d3d43b.jpg\n",
            "/content/test-colab/anchor/8f4d3eaa-0986-11ef-ab2e-ecee15d3d43b.jpg\n",
            "/content/test-colab/anchor/8d55c6de-0986-11ef-8d12-ecee15d3d43b.jpg\n",
            "/content/test-colab/anchor/8fae5542-0986-11ef-908f-ecee15d3d43b.jpg\n",
            "/content/test-colab/anchor/8b196285-0986-11ef-923e-ecee15d3d43b.jpg\n",
            "/content/test-colab/anchor/45a725a6-0987-11ef-9500-ecee15d3d43b.jpg\n",
            "/content/test-colab/anchor/46f31541-0987-11ef-9388-ecee15d3d43b.jpg\n",
            "/content/test-colab/anchor/5883906e-0987-11ef-80b0-ecee15d3d43b.jpg\n",
            "/content/test-colab/anchor/8d072aac-0986-11ef-8199-ecee15d3d43b.jpg\n",
            "/content/test-colab/anchor/8a778de3-0986-11ef-983e-ecee15d3d43b.jpg\n",
            "/content/test-colab/anchor/5839807b-0987-11ef-99a4-ecee15d3d43b.jpg\n",
            "/content/test-colab/anchor/8e75d142-0986-11ef-a512-ecee15d3d43b.jpg\n",
            "/content/test-colab/anchor/49b5d80e-0987-11ef-a3fb-ecee15d3d43b.jpg\n",
            "/content/test-colab/anchor/58b7e12e-0987-11ef-b4e1-ecee15d3d43b.jpg\n",
            "/content/test-colab/anchor/52bbe71e-0987-11ef-9180-ecee15d3d43b.jpg\n",
            "/content/test-colab/anchor/4600fc80-0987-11ef-ab31-ecee15d3d43b.jpg\n",
            "/content/test-colab/anchor/8cf8ebde-0986-11ef-83ae-ecee15d3d43b.jpg\n",
            "/content/test-colab/anchor/8c480778-0986-11ef-9446-ecee15d3d43b.jpg\n",
            "/content/test-colab/anchor/8edbc770-0986-11ef-a12b-ecee15d3d43b.jpg\n",
            "/content/test-colab/anchor/8b2097dc-0986-11ef-9b65-ecee15d3d43b.jpg\n",
            "/content/test-colab/anchor/8e9232dd-0986-11ef-add4-ecee15d3d43b.jpg\n",
            "/content/test-colab/anchor/480beaec-0987-11ef-bff4-ecee15d3d43b.jpg\n",
            "/content/test-colab/anchor/4bedc1e4-0987-11ef-9ea2-ecee15d3d43b.jpg\n",
            "/content/test-colab/anchor/933539ca-0986-11ef-888d-ecee15d3d43b.jpg\n",
            "/content/test-colab/anchor/5356bd52-0987-11ef-ad7d-ecee15d3d43b.jpg\n",
            "/content/test-colab/anchor/8e522c53-0986-11ef-9152-ecee15d3d43b.jpg\n",
            "/content/test-colab/anchor/95d36c5d-0986-11ef-82e8-ecee15d3d43b.jpg\n",
            "/content/test-colab/anchor/456dec69-0987-11ef-88dd-ecee15d3d43b.jpg\n",
            "/content/test-colab/anchor/94cef297-0986-11ef-9de5-ecee15d3d43b.jpg\n",
            "/content/test-colab/anchor/46dd7e67-0987-11ef-a8ab-ecee15d3d43b.jpg\n",
            "/content/test-colab/anchor/a35c7310-0987-11ef-90d7-ecee15d3d43b.jpg\n",
            "/content/test-colab/anchor/9431526f-0986-11ef-896a-ecee15d3d43b.jpg\n",
            "/content/test-colab/anchor/47ac3d06-0987-11ef-826a-ecee15d3d43b.jpg\n",
            "/content/test-colab/anchor/470f7833-0987-11ef-89e3-ecee15d3d43b.jpg\n",
            "/content/test-colab/anchor/550183ac-0987-11ef-ad6c-ecee15d3d43b.jpg\n",
            "/content/test-colab/anchor/567929a2-0987-11ef-aed1-ecee15d3d43b.jpg\n",
            "/content/test-colab/anchor/5858795e-0987-11ef-a82e-ecee15d3d43b.jpg\n",
            "/content/test-colab/anchor/529f129f-0987-11ef-ab83-ecee15d3d43b.jpg\n",
            "/content/test-colab/anchor/4cd9758f-0987-11ef-a72d-ecee15d3d43b.jpg\n",
            "/content/test-colab/anchor/53971464-0987-11ef-9507-ecee15d3d43b.jpg\n",
            "/content/test-colab/anchor/5743345c-0987-11ef-9f80-ecee15d3d43b.jpg\n",
            "/content/test-colab/anchor/5aa6a166-0987-11ef-8e75-ecee15d3d43b.jpg\n",
            "/content/test-colab/anchor/8a3255e0-0986-11ef-be06-ecee15d3d43b.jpg\n",
            "/content/test-colab/anchor/57f1703f-0987-11ef-be6d-ecee15d3d43b.jpg\n",
            "/content/test-colab/anchor/477a2556-0987-11ef-9674-ecee15d3d43b.jpg\n",
            "/content/test-colab/anchor/590fdfbb-0987-11ef-a46d-ecee15d3d43b.jpg\n",
            "/content/test-colab/anchor/956b5674-0986-11ef-be13-ecee15d3d43b.jpg\n",
            "/content/test-colab/anchor/5963052f-0987-11ef-ae5c-ecee15d3d43b.jpg\n",
            "/content/test-colab/anchor/8969cd21-0986-11ef-b22f-ecee15d3d43b.jpg\n",
            "/content/test-colab/anchor/559dd3c3-0987-11ef-bbd4-ecee15d3d43b.jpg\n",
            "/content/test-colab/anchor/52df971c-0987-11ef-a3a5-ecee15d3d43b.jpg\n",
            "/content/test-colab/anchor/49aa15b4-0987-11ef-8a79-ecee15d3d43b.jpg\n",
            "/content/test-colab/anchor/499bb8a1-0987-11ef-adb6-ecee15d3d43b.jpg\n",
            "/content/test-colab/anchor/8b526c94-0986-11ef-8887-ecee15d3d43b.jpg\n",
            "/content/test-colab/anchor/58072c17-0987-11ef-8b6b-ecee15d3d43b.jpg\n",
            "/content/test-colab/anchor/944e265b-0986-11ef-9c49-ecee15d3d43b.jpg\n",
            "/content/test-colab/anchor/47b36ed9-0987-11ef-a7ad-ecee15d3d43b.jpg\n",
            "/content/test-colab/anchor/45ae49c5-0987-11ef-9a44-ecee15d3d43b.jpg\n",
            "/content/test-colab/anchor/52adaa73-0987-11ef-8d0b-ecee15d3d43b.jpg\n",
            "/content/test-colab/anchor/4a846cfb-0987-11ef-9b3d-ecee15d3d43b.jpg\n",
            "/content/test-colab/anchor/457c2e24-0987-11ef-8ff2-ecee15d3d43b.jpg\n",
            "/content/test-colab/anchor/5718a2e6-0987-11ef-9fd3-ecee15d3d43b.jpg\n",
            "/content/test-colab/anchor/46cf7f4d-0987-11ef-8376-ecee15d3d43b.jpg\n",
            "/content/test-colab/anchor/474f53ad-0987-11ef-9612-ecee15d3d43b.jpg\n",
            "/content/test-colab/anchor/89a9b0b6-0986-11ef-a1f0-ecee15d3d43b.jpg\n",
            "/content/test-colab/anchor/4c941ea5-0987-11ef-8a80-ecee15d3d43b.jpg\n",
            "/content/test-colab/anchor/8f3edfc5-0986-11ef-a1ac-ecee15d3d43b.jpg\n",
            "/content/test-colab/anchor/56d5db9f-0987-11ef-8d6e-ecee15d3d43b.jpg\n",
            "/content/test-colab/anchor/46a73118-0987-11ef-be0b-ecee15d3d43b.jpg\n",
            "/content/test-colab/anchor/492e2f27-0987-11ef-b4ab-ecee15d3d43b.jpg\n",
            "/content/test-colab/anchor/55b34a09-0987-11ef-9b68-ecee15d3d43b.jpg\n",
            "/content/test-colab/anchor/4c271fa6-0987-11ef-a90a-ecee15d3d43b.jpg\n",
            "/content/test-colab/anchor/58a2648e-0987-11ef-a3d2-ecee15d3d43b.jpg\n",
            "/content/test-colab/anchor/4ac4e616-0987-11ef-ac59-ecee15d3d43b.jpg\n",
            "/content/test-colab/anchor/5a3dd3a1-0987-11ef-8fba-ecee15d3d43b.jpg\n",
            "/content/test-colab/anchor/521238d4-0987-11ef-8cc2-ecee15d3d43b.jpg\n",
            "/content/test-colab/anchor/a3d5df29-0987-11ef-80af-ecee15d3d43b.jpg\n",
            "/content/test-colab/anchor/5847c4a6-0987-11ef-a784-ecee15d3d43b.jpg\n",
            "/content/test-colab/anchor/8a160b96-0986-11ef-82f6-ecee15d3d43b.jpg\n",
            "/content/test-colab/anchor/8a4efcf4-0986-11ef-ab6a-ecee15d3d43b.jpg\n",
            "/content/test-colab/anchor/4884e459-0987-11ef-a635-ecee15d3d43b.jpg\n",
            "/content/test-colab/anchor/8d15723b-0986-11ef-9c2b-ecee15d3d43b.jpg\n",
            "/content/test-colab/anchor/4c32fba3-0987-11ef-a464-ecee15d3d43b.jpg\n",
            "/content/test-colab/anchor/53651aaa-0987-11ef-89ec-ecee15d3d43b.jpg\n",
            "/content/test-colab/anchor/5948c912-0987-11ef-92ff-ecee15d3d43b.jpg\n",
            "/content/test-colab/anchor/471da855-0987-11ef-b36e-ecee15d3d43b.jpg\n",
            "/content/test-colab/anchor/93838ad2-0986-11ef-a19b-ecee15d3d43b.jpg\n",
            "/content/test-colab/anchor/48681319-0987-11ef-b69b-ecee15d3d43b.jpg\n",
            "/content/test-colab/anchor/8d8336a1-0986-11ef-9401-ecee15d3d43b.jpg\n",
            "/content/test-colab/anchor/939dbf24-0986-11ef-803d-ecee15d3d43b.jpg\n",
            "/content/test-colab/anchor/467c99dd-0987-11ef-ad99-ecee15d3d43b.jpg\n",
            "/content/test-colab/anchor/5b680903-0987-11ef-8535-ecee15d3d43b.jpg\n",
            "/content/test-colab/anchor/94e4484c-0986-11ef-ace7-ecee15d3d43b.jpg\n",
            "/content/test-colab/anchor/955d1273-0986-11ef-91b6-ecee15d3d43b.jpg\n",
            "/content/test-colab/anchor/4ca29c5d-0987-11ef-a488-ecee15d3d43b.jpg\n",
            "/content/test-colab/anchor/93ac3785-0986-11ef-98c8-ecee15d3d43b.jpg\n",
            "/content/test-colab/anchor/45e4a6ab-0987-11ef-999f-ecee15d3d43b.jpg\n",
            "/content/test-colab/anchor/478fa314-0987-11ef-be86-ecee15d3d43b.jpg\n",
            "/content/test-colab/anchor/466024f8-0987-11ef-9e54-ecee15d3d43b.jpg\n",
            "/content/test-colab/anchor/461d59e9-0987-11ef-a7e1-ecee15d3d43b.jpg\n",
            "/content/test-colab/anchor/5a5a5eb3-0987-11ef-963c-ecee15d3d43b.jpg\n",
            "/content/test-colab/anchor/49d27c16-0987-11ef-a747-ecee15d3d43b.jpg\n",
            "/content/test-colab/anchor/4ce7d48d-0987-11ef-9211-ecee15d3d43b.jpg\n",
            "/content/test-colab/anchor/5af5609f-0987-11ef-85f8-ecee15d3d43b.jpg\n",
            "/content/test-colab/anchor/498d23e3-0987-11ef-bf2d-ecee15d3d43b.jpg\n",
            "/content/test-colab/anchor/5901c86f-0987-11ef-b3a1-ecee15d3d43b.jpg\n",
            "/content/test-colab/anchor/5533722d-0987-11ef-abd0-ecee15d3d43b.jpg\n",
            "/content/test-colab/anchor/5b870ab6-0987-11ef-b55c-ecee15d3d43b.jpg\n",
            "/content/test-colab/anchor/58b0b480-0987-11ef-98db-ecee15d3d43b.jpg\n",
            "/content/test-colab/anchor/534861d2-0987-11ef-87ff-ecee15d3d43b.jpg\n",
            "/content/test-colab/anchor/5220adb9-0987-11ef-8d7b-ecee15d3d43b.jpg\n",
            "/content/test-colab/anchor/530ae71d-0987-11ef-8f75-ecee15d3d43b.jpg\n",
            "/content/test-colab/anchor/5ab5249e-0987-11ef-acfb-ecee15d3d43b.jpg\n",
            "/content/test-colab/anchor/5436ef29-0987-11ef-9aa0-ecee15d3d43b.jpg\n",
            "/content/test-colab/anchor/8fc3aab3-0986-11ef-9290-ecee15d3d43b.jpg\n",
            "/content/test-colab/anchor/46b528d8-0987-11ef-981a-ecee15d3d43b.jpg\n",
            "/content/test-colab/anchor/48769c92-0987-11ef-ada8-ecee15d3d43b.jpg\n",
            "/content/test-colab/anchor/8d395f08-0986-11ef-aaaa-ecee15d3d43b.jpg\n",
            "/content/test-colab/anchor/59b5daf9-0987-11ef-9ae2-ecee15d3d43b.jpg\n",
            "/content/test-colab/anchor/5bc08bf5-0987-11ef-9ab5-ecee15d3d43b.jpg\n",
            "/content/test-colab/anchor/8b7d7e62-0986-11ef-b6d1-ecee15d3d43b.jpg\n",
            "/content/test-colab/anchor/45988f5a-0987-11ef-a295-ecee15d3d43b.jpg\n",
            "/content/test-colab/anchor/8bf96df1-0986-11ef-b267-ecee15d3d43b.jpg\n",
            "/content/test-colab/anchor/466e573e-0987-11ef-9e29-ecee15d3d43b.jpg\n",
            "/content/test-colab/anchor/4a6a647d-0987-11ef-a839-ecee15d3d43b.jpg\n",
            "/content/test-colab/anchor/894d153e-0986-11ef-8841-ecee15d3d43b.jpg\n",
            "/content/test-colab/anchor/93c89a40-0986-11ef-8786-ecee15d3d43b.jpg\n",
            "/content/test-colab/anchor/4a4e474c-0987-11ef-8121-ecee15d3d43b.jpg\n",
            "/content/test-colab/anchor/8b60d49b-0986-11ef-a5d0-ecee15d3d43b.jpg\n",
            "/content/test-colab/anchor/5b763f4a-0987-11ef-937c-ecee15d3d43b.jpg\n",
            "/content/test-colab/anchor/8ebf6f52-0986-11ef-a806-ecee15d3d43b.jpg\n",
            "/content/test-colab/anchor/47fddb2c-0987-11ef-9c8f-ecee15d3d43b.jpg\n",
            "/content/test-colab/anchor/492021d4-0987-11ef-bdc4-ecee15d3d43b.jpg\n",
            "/content/test-colab/anchor/483d4020-0987-11ef-a53e-ecee15d3d43b.jpg\n",
            "/content/test-colab/anchor/958578a6-0986-11ef-9ee0-ecee15d3d43b.jpg\n",
            "/content/test-colab/anchor/5770e4fe-0987-11ef-8a57-ecee15d3d43b.jpg\n",
            "/content/test-colab/anchor/8db9e595-0986-11ef-a072-ecee15d3d43b.jpg\n",
            "/content/test-colab/anchor/4d210433-0987-11ef-8910-ecee15d3d43b.jpg\n",
            "/content/test-colab/anchor/484b7a17-0987-11ef-afdf-ecee15d3d43b.jpg\n",
            "/content/test-colab/anchor/460f5fe8-0987-11ef-973a-ecee15d3d43b.jpg\n",
            "/content/test-colab/anchor/45136f2e-0987-11ef-a235-ecee15d3d43b.jpg\n",
            "/content/test-colab/anchor/8c1d23c9-0986-11ef-9810-ecee15d3d43b.jpg\n",
            "/content/test-colab/anchor/8e277398-0986-11ef-b829-ecee15d3d43b.jpg\n",
            "/content/test-colab/anchor/58753399-0987-11ef-afad-ecee15d3d43b.jpg\n",
            "/content/test-colab/anchor/57625374-0987-11ef-ba61-ecee15d3d43b.jpg\n",
            "/content/test-colab/anchor/591dc925-0987-11ef-be60-ecee15d3d43b.jpg\n",
            "/content/test-colab/anchor/5a2f92d7-0987-11ef-9af7-ecee15d3d43b.jpg\n",
            "/content/test-colab/anchor/95b00c32-0986-11ef-a6fc-ecee15d3d43b.jpg\n",
            "/content/test-colab/anchor/581caa28-0987-11ef-b6cd-ecee15d3d43b.jpg\n",
            "/content/test-colab/anchor/4bdf983c-0987-11ef-9ddc-ecee15d3d43b.jpg\n",
            "/content/test-colab/anchor/4ad332ac-0987-11ef-b9e1-ecee15d3d43b.jpg\n",
            "/content/test-colab/anchor/51b7a914-0987-11ef-a976-ecee15d3d43b.jpg\n",
            "/content/test-colab/anchor/540e4b41-0987-11ef-91ed-ecee15d3d43b.jpg\n",
            "/content/test-colab/anchor/57948780-0987-11ef-99fb-ecee15d3d43b.jpg\n",
            "/content/test-colab/anchor/55c65e39-0987-11ef-8814-ecee15d3d43b.jpg\n",
            "/content/test-colab/anchor/898d6015-0986-11ef-823c-ecee15d3d43b.jpg\n",
            "/content/test-colab/anchor/51e07e42-0987-11ef-9d7c-ecee15d3d43b.jpg\n",
            "/content/test-colab/anchor/5516e533-0987-11ef-a707-ecee15d3d43b.jpg\n",
            "/content/test-colab/anchor/8b3ccdb7-0986-11ef-80dd-ecee15d3d43b.jpg\n",
            "/content/test-colab/anchor/4ae13cee-0987-11ef-ac17-ecee15d3d43b.jpg\n",
            "/content/test-colab/anchor/93ba3e93-0986-11ef-be8f-ecee15d3d43b.jpg\n",
            "/content/test-colab/anchor/482f5c04-0987-11ef-ace7-ecee15d3d43b.jpg\n",
            "/content/test-colab/anchor/57e3162a-0987-11ef-8717-ecee15d3d43b.jpg\n",
            "/content/test-colab/anchor/5a98658e-0987-11ef-b36a-ecee15d3d43b.jpg\n",
            "/content/test-colab/anchor/570a3185-0987-11ef-911d-ecee15d3d43b.jpg\n",
            "/content/test-colab/anchor/497ed2da-0987-11ef-a186-ecee15d3d43b.jpg\n",
            "/content/test-colab/anchor/45ca81a5-0987-11ef-875c-ecee15d3d43b.jpg\n",
            "/content/test-colab/anchor/4a0492e3-0987-11ef-b60e-ecee15d3d43b.jpg\n",
            "/content/test-colab/anchor/554f8725-0987-11ef-abe2-ecee15d3d43b.jpg\n",
            "/content/test-colab/anchor/8c0ee11c-0986-11ef-a777-ecee15d3d43b.jpg\n",
            "/content/test-colab/anchor/8fee8f5d-0986-11ef-87d8-ecee15d3d43b.jpg\n",
            "/content/test-colab/anchor/a407ce45-0987-11ef-ac8a-ecee15d3d43b.jpg\n"
          ]
        }
      ]
    },
    {
      "cell_type": "code",
      "source": [
        "# Khởi tạo đường dẫn\n",
        "# POS_PATH = os.path.join('data', 'positive')\n",
        "# NEG_PATH = os.path.join('data', 'negative')\n",
        "# ANC_PATH = os.path.join('data', 'anchor')"
      ],
      "metadata": {
        "id": "EEkOv4m7R47e"
      },
      "execution_count": null,
      "outputs": []
    },
    {
      "cell_type": "code",
      "source": [
        "# Tạo folder\n",
        "# os.makedirs(POS_PATH)\n",
        "# os.makedirs(NEG_PATH)\n",
        "# os.makedirs(ANC_PATH)"
      ],
      "metadata": {
        "id": "9raE4Kj7STtr"
      },
      "execution_count": null,
      "outputs": []
    },
    {
      "cell_type": "markdown",
      "source": [
        "# 2.Tạo file ảnh Positives và Anchors"
      ],
      "metadata": {
        "id": "i7p9dB_ONIHH"
      }
    },
    {
      "cell_type": "markdown",
      "source": [
        "## 2.1"
      ],
      "metadata": {
        "id": "MUCWb9jKNMQi"
      }
    },
    {
      "cell_type": "code",
      "source": [
        "# for directory in os.listdir('lfw'):\n",
        "#   for file in os.listdir(os.path.join('lfw', directory)):\n",
        "#     EX_PATH = os.path.join('lfw', directory, file)\n",
        "#     NEW_PATH = os.path.join(NEG_PATH, file)\n",
        "#     os.replace(EX_PATH, NEW_PATH)"
      ],
      "metadata": {
        "id": "VReOgmzkNQUi"
      },
      "execution_count": 11,
      "outputs": []
    },
    {
      "cell_type": "markdown",
      "source": [
        "## 2.2.Tạo Positive và Anchor"
      ],
      "metadata": {
        "id": "dk5XkoNnXNUW"
      }
    },
    {
      "cell_type": "code",
      "source": [
        "# import uuid"
      ],
      "metadata": {
        "id": "yv_EUQJxXIc5"
      },
      "execution_count": 12,
      "outputs": []
    },
    {
      "cell_type": "code",
      "source": [
        "# uuid.uuid1()"
      ],
      "metadata": {
        "id": "pklIaQTVXJfU"
      },
      "execution_count": 13,
      "outputs": []
    },
    {
      "cell_type": "code",
      "source": [
        "# import cv2\n",
        "# cap = cv2.VideoCapture(0)\n",
        "# while cap.isOpened():\n",
        "#   ret, frame = cap.read()\n",
        "\n",
        "#   frame = frame[120:120+250,200:200+250,:]\n",
        "\n",
        "#   if cv2.waitKey(1) & 0XFF == ord('a'):\n",
        "#     imgname = os.path.join(ANC_PATH, '{}.jpg'.format(uuid.uuid1()))\n",
        "#     cv2.imwrite(imgname, frame)\n",
        "\n",
        "\n",
        "#   if cv2.waitKey(1) & 0XFF == ord('p'):\n",
        "#     imgname = os.path.join(POS_PATH, '{}.jpg'.format(uuid.uuid1()))\n",
        "#     cv2.imwrite(imgname, frame)\n",
        "\n",
        "\n",
        "#   cv2.imshow('Image Collection', frame)\n",
        "\n",
        "#   if cv2.waitKey(1) & 0XFF == ord('q'):\n",
        "#     break\n",
        "\n",
        "# cap.release()\n",
        "\n",
        "# cv2.destroyAllWindows()"
      ],
      "metadata": {
        "id": "r3Tz7iSxXU0Y"
      },
      "execution_count": 14,
      "outputs": []
    },
    {
      "cell_type": "markdown",
      "source": [
        "# 2X. Data Augmentation"
      ],
      "metadata": {
        "id": "21isKqJK1SCa"
      }
    },
    {
      "cell_type": "code",
      "source": [
        "# def data_aug(img):\n",
        "#     data = []\n",
        "#     for i in range(9):\n",
        "#         img = tf.image.stateless_random_brightness(img, max_delta=0.02, seed=(1,2))\n",
        "#         img = tf.image.stateless_random_contrast(img, lower=0.6, upper=1, seed=(1,3))\n",
        "#         # img = tf.image.stateless_random_crop(img, size=(20,20,3), seed=(1,2))\n",
        "#         img = tf.image.stateless_random_flip_left_right(img, seed=(np.random.randint(100),np.random.randint(100)))\n",
        "#         img = tf.image.stateless_random_jpeg_quality(img, min_jpeg_quality=90, max_jpeg_quality=100, seed=(np.random.randint(100),np.random.randint(100)))\n",
        "#         img = tf.image.stateless_random_saturation(img, lower=0.9,upper=1, seed=(np.random.randint(100),np.random.randint(100)))\n",
        "\n",
        "#         data.append(img)\n",
        "\n",
        "#     return data"
      ],
      "metadata": {
        "id": "G2HxiqPd1eC0"
      },
      "execution_count": 16,
      "outputs": []
    },
    {
      "cell_type": "code",
      "source": [
        "import os\n",
        "import uuid"
      ],
      "metadata": {
        "id": "OMZijhl41gkL"
      },
      "execution_count": 17,
      "outputs": []
    },
    {
      "cell_type": "code",
      "source": [
        "# img_path = os.path.join(ANC_PATH, '924e839c-135f-11ec-b54e-a0cec8d2d278.jpg')\n",
        "# img = cv2.imread(img_path)\n",
        "# augmented_images = data_aug(img)\n",
        "\n",
        "# for image in augmented_images:\n",
        "#     cv2.imwrite(os.path.join(ANC_PATH, '{}.jpg'.format(uuid.uuid1())), image.numpy())"
      ],
      "metadata": {
        "id": "4f8rLEEN1kZ4"
      },
      "execution_count": 18,
      "outputs": []
    },
    {
      "cell_type": "code",
      "source": [
        "# for file_name in os.listdir(os.path.join(POS_PATH)):\n",
        "#     img_path = os.path.join(POS_PATH, file_name)\n",
        "#     img = cv2.imread(img_path)\n",
        "#     augmented_images = data_aug(img)\n",
        "\n",
        "#     for image in augmented_images:\n",
        "#         cv2.imwrite(os.path.join(POS_PATH, '{}.jpg'.format(uuid.uuid1())), image.numpy())"
      ],
      "metadata": {
        "id": "hJ--TqlV1lBi"
      },
      "execution_count": 19,
      "outputs": []
    },
    {
      "cell_type": "markdown",
      "source": [
        "# 3. Tiền xử lí hình ảnh"
      ],
      "metadata": {
        "id": "gNGEBhaVndMI"
      }
    },
    {
      "cell_type": "markdown",
      "source": [
        "## 3.1.Lấy đường dẫn thư mục hình ảnh"
      ],
      "metadata": {
        "id": "pSdDE9GMnww9"
      }
    },
    {
      "cell_type": "code",
      "source": [
        "anchor = tf.data.Dataset.list_files(ANC_PATH+'/*.jpg').take(250)\n",
        "positive = tf.data.Dataset.list_files(POS_PATH+'/*.jpg').take(250)\n",
        "negative = tf.data.Dataset.list_files(NEG_PATH+'/*.jpg').take(250)"
      ],
      "metadata": {
        "id": "EZ4dywKEnjlV"
      },
      "execution_count": 20,
      "outputs": []
    },
    {
      "cell_type": "code",
      "source": [
        "dir_test = anchor.as_numpy_iterator()"
      ],
      "metadata": {
        "id": "G4VGHDwbn5qI"
      },
      "execution_count": 21,
      "outputs": []
    },
    {
      "cell_type": "code",
      "source": [
        "print(dir_test.next())"
      ],
      "metadata": {
        "colab": {
          "base_uri": "https://localhost:8080/"
        },
        "id": "W9vOGSpk1zdB",
        "outputId": "b6088626-8346-44af-97bc-d70f58351e58"
      },
      "execution_count": 22,
      "outputs": [
        {
          "output_type": "stream",
          "name": "stdout",
          "text": [
            "b'/content/test-colab/anchor/0ffd334d-0988-11ef-829a-ecee15d3d43b.jpg'\n"
          ]
        }
      ]
    },
    {
      "cell_type": "markdown",
      "source": [
        "## 3.2.Tiền xử lí dữ liệu ( Resize & Scale )"
      ],
      "metadata": {
        "id": "pOCpiXlTn9F-"
      }
    },
    {
      "cell_type": "code",
      "source": [
        "def preprocess(file_path):\n",
        "\n",
        "    # Tải hình ảnh từ đường dẫn\n",
        "    byte_img = tf.io.read_file(file_path)\n",
        "\n",
        "    # Tải hình ảnh\n",
        "    img = tf.io.decode_jpeg(byte_img)\n",
        "\n",
        "    # Chỉnh size ảnh thành 100x100\n",
        "    img = tf.image.resize(img, (100, 100))\n",
        "\n",
        "    # Scale hình ảnh về trong khoarg 0 và 1\n",
        "    img = img / 255.0\n",
        "\n",
        "    return img"
      ],
      "metadata": {
        "id": "XV7jRXqLoDCp"
      },
      "execution_count": 23,
      "outputs": []
    },
    {
      "cell_type": "code",
      "source": [
        "img = preprocess('/content/test-colab/anchor/13fceeb6-0988-11ef-9668-ecee15d3d43b.jpg')"
      ],
      "metadata": {
        "id": "pZfAPJKqoK3u"
      },
      "execution_count": 24,
      "outputs": []
    },
    {
      "cell_type": "code",
      "source": [
        "plt.imshow(img)"
      ],
      "metadata": {
        "id": "yxfdvyEXoSyE",
        "colab": {
          "base_uri": "https://localhost:8080/",
          "height": 451
        },
        "outputId": "39804c48-39d4-4032-c26e-6dc8255aad5a"
      },
      "execution_count": 25,
      "outputs": [
        {
          "output_type": "execute_result",
          "data": {
            "text/plain": [
              "<matplotlib.image.AxesImage at 0x7f259c0c05b0>"
            ]
          },
          "metadata": {},
          "execution_count": 25
        },
        {
          "output_type": "display_data",
          "data": {
            "text/plain": [
              "<Figure size 640x480 with 1 Axes>"
            ],
            "image/png": "[encoded data removed]"
          },
          "metadata": {}
        }
      ]
    },
    {
      "cell_type": "code",
      "source": [
        "anchor.map(preprocess)\n",
        "negative.map(preprocess)\n",
        "positive.map(preprocess)"
      ],
      "metadata": {
        "id": "AIU--YDcoezL",
        "colab": {
          "base_uri": "https://localhost:8080/"
        },
        "outputId": "10f59c2e-08b1-4112-93d6-3b2c12844f42"
      },
      "execution_count": 39,
      "outputs": [
        {
          "output_type": "execute_result",
          "data": {
            "text/plain": [
              "<_MapDataset element_spec=TensorSpec(shape=(100, 100, None), dtype=tf.float32, name=None)>"
            ]
          },
          "metadata": {},
          "execution_count": 39
        }
      ]
    },
    {
      "cell_type": "markdown",
      "source": [
        "## 3.3 Gán nhãn dataset"
      ],
      "metadata": {
        "id": "qbl7tKSH2yB4"
      }
    },
    {
      "cell_type": "code",
      "source": [
        "# (anchor, positive) => 1,1,1,1,1\n",
        "# (anchor, negative) => 0,0,0,0,0"
      ],
      "metadata": {
        "id": "s4SWmAqv2-Y9"
      },
      "execution_count": 27,
      "outputs": []
    },
    {
      "cell_type": "code",
      "source": [
        "positives = tf.data.Dataset.zip((anchor, positive, tf.data.Dataset.from_tensor_slices(tf.ones(len(anchor)))))\n",
        "negatives = tf.data.Dataset.zip((anchor, negative, tf.data.Dataset.from_tensor_slices(tf.zeros(len(anchor)))))\n",
        "data = positives.concatenate(negatives)"
      ],
      "metadata": {
        "id": "1j42hzua2-6S"
      },
      "execution_count": 28,
      "outputs": []
    },
    {
      "cell_type": "code",
      "source": [
        "samples = data.as_numpy_iterator()"
      ],
      "metadata": {
        "id": "BDTmHO8n3AX4"
      },
      "execution_count": 29,
      "outputs": []
    },
    {
      "cell_type": "code",
      "source": [
        "exampple = samples.next()"
      ],
      "metadata": {
        "id": "BVsbc60y3CDA"
      },
      "execution_count": 30,
      "outputs": []
    },
    {
      "cell_type": "code",
      "source": [
        "exampple"
      ],
      "metadata": {
        "colab": {
          "base_uri": "https://localhost:8080/"
        },
        "id": "WYNMdSEc3DiC",
        "outputId": "4daa6cbc-92b1-42b5-95c0-387697bf9f24"
      },
      "execution_count": 31,
      "outputs": [
        {
          "output_type": "execute_result",
          "data": {
            "text/plain": [
              "(b'/content/test-colab/anchor/16b553a7-0988-11ef-8464-ecee15d3d43b.jpg',\n",
              " b'/content/test-colab/positive/8aee672a-0986-11ef-af99-ecee15d3d43b.jpg',\n",
              " 1.0)"
            ]
          },
          "metadata": {},
          "execution_count": 31
        }
      ]
    },
    {
      "cell_type": "markdown",
      "source": [
        "## 3.4 Xây dựng phân vùng huấn luyện và thử nghiệm"
      ],
      "metadata": {
        "id": "Mym2FLne3Jl-"
      }
    },
    {
      "cell_type": "code",
      "source": [
        "def preprocess_twin(input_img, validation_img, label):\n",
        "    return(preprocess(input_img), preprocess(validation_img), label)"
      ],
      "metadata": {
        "id": "WGc8UYBl3OsO"
      },
      "execution_count": 32,
      "outputs": []
    },
    {
      "cell_type": "code",
      "source": [
        "res = preprocess_twin(*exampple)"
      ],
      "metadata": {
        "id": "eBPir7bt3Qlv"
      },
      "execution_count": 33,
      "outputs": []
    },
    {
      "cell_type": "code",
      "source": [
        "plt.imshow(res[1])"
      ],
      "metadata": {
        "colab": {
          "base_uri": "https://localhost:8080/",
          "height": 451
        },
        "id": "Cgxhdv943SBt",
        "outputId": "6fd0ebc9-55db-4429-95bd-de6c4c152160"
      },
      "execution_count": 34,
      "outputs": [
        {
          "output_type": "execute_result",
          "data": {
            "text/plain": [
              "<matplotlib.image.AxesImage at 0x7f25982bda80>"
            ]
          },
          "metadata": {},
          "execution_count": 34
        },
        {
          "output_type": "display_data",
          "data": {
            "text/plain": [
              "<Figure size 640x480 with 1 Axes>"
            ],
            "image/png": "[encoded data removed]"
          },
          "metadata": {}
        }
      ]
    },
    {
      "cell_type": "code",
      "source": [
        "res[2]"
      ],
      "metadata": {
        "colab": {
          "base_uri": "https://localhost:8080/"
        },
        "id": "fxn5ozja3Vxm",
        "outputId": "764e0fbf-4134-4362-a298-2a9c958ae21f"
      },
      "execution_count": 35,
      "outputs": [
        {
          "output_type": "execute_result",
          "data": {
            "text/plain": [
              "1.0"
            ]
          },
          "metadata": {},
          "execution_count": 35
        }
      ]
    },
    {
      "cell_type": "code",
      "source": [
        "# Build dataloader pipeline\n",
        "data = data.map(preprocess_twin)\n",
        "data = data.cache()\n",
        "data = data.shuffle(buffer_size=10000)"
      ],
      "metadata": {
        "id": "Kf3Njj8q3YHB"
      },
      "execution_count": 36,
      "outputs": []
    },
    {
      "cell_type": "code",
      "source": [
        "# Training partition\n",
        "train_data = data.take(round(len(data)*.7))\n",
        "train_data = train_data.batch(16)\n",
        "train_data = train_data.prefetch(8)"
      ],
      "metadata": {
        "id": "jM2tezGW3Yla"
      },
      "execution_count": 37,
      "outputs": []
    },
    {
      "cell_type": "code",
      "source": [
        "# Testing partition\n",
        "test_data = data.skip(round(len(data)*.7))\n",
        "test_data = test_data.take(round(len(data)*.3))\n",
        "test_data = test_data.batch(16)\n",
        "test_data = test_data.prefetch(8)"
      ],
      "metadata": {
        "id": "0Jx-CyYO3aE4"
      },
      "execution_count": 38,
      "outputs": []
    }
  ]
}